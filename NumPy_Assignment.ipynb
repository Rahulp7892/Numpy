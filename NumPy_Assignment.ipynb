{
  "nbformat": 4,
  "nbformat_minor": 0,
  "metadata": {
    "colab": {
      "provenance": []
    },
    "kernelspec": {
      "name": "python3",
      "display_name": "Python 3"
    },
    "language_info": {
      "name": "python"
    }
  },
  "cells": [
    {
      "cell_type": "code",
      "execution_count": null,
      "metadata": {
        "id": "28eJSxiEt9tD"
      },
      "outputs": [],
      "source": [
        "#Q.1 Create a numpy array 'arr' of integers from 0 to 5 and print its data type."
      ]
    },
    {
      "cell_type": "code",
      "source": [
        "import numpy as np\n",
        "\n",
        "arr = np.arange(6)\n",
        "\n",
        "print(arr.dtype)"
      ],
      "metadata": {
        "colab": {
          "base_uri": "https://localhost:8080/"
        },
        "id": "VDSiWLp4uYgb",
        "outputId": "86665a62-40e6-4d19-e0a4-70007a88c31c"
      },
      "execution_count": null,
      "outputs": [
        {
          "output_type": "stream",
          "name": "stdout",
          "text": [
            "int64\n"
          ]
        }
      ]
    },
    {
      "cell_type": "code",
      "source": [
        "#Q.2 Given a numpy array 'arr', check if its data type is float64. arr = np.array([1.5, 2.6, 3.7])"
      ],
      "metadata": {
        "id": "_L7Skyb7viuI"
      },
      "execution_count": null,
      "outputs": []
    },
    {
      "cell_type": "code",
      "source": [
        "import numpy as np\n",
        "\n",
        "arr = np.array([1.5, 2.6, 3.7])\n",
        "\n",
        "if arr.dtype == np.float64:\n",
        "    print(\"The data type of the array is float64.\")\n",
        "else:\n",
        "    print(\"The data type of the array is not float64.\")"
      ],
      "metadata": {
        "colab": {
          "base_uri": "https://localhost:8080/"
        },
        "id": "BVHaLHWUux8d",
        "outputId": "6b0172be-c1fe-4195-dd16-4a19b21fac83"
      },
      "execution_count": null,
      "outputs": [
        {
          "output_type": "stream",
          "name": "stdout",
          "text": [
            "The data type of the array is float64.\n"
          ]
        }
      ]
    },
    {
      "cell_type": "code",
      "source": [
        "#Q.3 Create a NumPy array 'arr' with a data type of complex128 containing three complex numbers."
      ],
      "metadata": {
        "id": "I3iaA3iovXyS"
      },
      "execution_count": null,
      "outputs": []
    },
    {
      "cell_type": "code",
      "source": [
        "import numpy as np\n",
        "\n",
        "arr = np.array([1+2j, 3+4j, 5+6j], dtype=np.complex128)\n",
        "\n",
        "print(\"Array:\", arr)\n",
        "print(\"Data type:\", arr.dtype)"
      ],
      "metadata": {
        "colab": {
          "base_uri": "https://localhost:8080/"
        },
        "id": "s86N6rOLv-O2",
        "outputId": "0e165b96-58cf-411e-9470-91d33b20c37f"
      },
      "execution_count": null,
      "outputs": [
        {
          "output_type": "stream",
          "name": "stdout",
          "text": [
            "Array: [1.+2.j 3.+4.j 5.+6.j]\n",
            "Data type: complex128\n"
          ]
        }
      ]
    },
    {
      "cell_type": "code",
      "source": [
        "#Q.4 Convert an existing NumPy array 'arr' of integers to float32 data type."
      ],
      "metadata": {
        "id": "GqWBsgL2wC1p"
      },
      "execution_count": null,
      "outputs": []
    },
    {
      "cell_type": "code",
      "source": [
        "import numpy as np\n",
        "\n",
        "arr = np.array([1, 2, 3, 4, 5], dtype=np.int32)\n",
        "\n",
        "arr_float32 = arr.astype(np.float32)\n",
        "\n",
        "print(\"Converted Array:\", arr_float32)\n",
        "print(\"Data type:\", arr_float32.dtype)"
      ],
      "metadata": {
        "colab": {
          "base_uri": "https://localhost:8080/"
        },
        "id": "kX-dIQSIwVS4",
        "outputId": "638e0e67-5659-48ee-a374-a114ad09ac0d"
      },
      "execution_count": null,
      "outputs": [
        {
          "output_type": "stream",
          "name": "stdout",
          "text": [
            "Converted Array: [1. 2. 3. 4. 5.]\n",
            "Data type: float32\n"
          ]
        }
      ]
    },
    {
      "cell_type": "code",
      "source": [
        "#Q.5 Given a NumPy array 'arr' with float64 data type, convert it to float32 to reduce decimal precision."
      ],
      "metadata": {
        "id": "igF25_pGwYjI"
      },
      "execution_count": null,
      "outputs": []
    },
    {
      "cell_type": "code",
      "source": [
        "import numpy as np\n",
        "\n",
        "arr = np.array([1.123456789, 2.987654321], dtype=np.float64)\n",
        "\n",
        "arr_float32 = arr.astype(np.float32)\n",
        "\n",
        "print(arr_float32)"
      ],
      "metadata": {
        "colab": {
          "base_uri": "https://localhost:8080/"
        },
        "id": "-SqFkSdxxs5-",
        "outputId": "18ca994e-0351-46ea-91a1-e465d0b26afb"
      },
      "execution_count": null,
      "outputs": [
        {
          "output_type": "stream",
          "name": "stdout",
          "text": [
            "[1.1234568 2.9876542]\n"
          ]
        }
      ]
    },
    {
      "cell_type": "code",
      "source": [
        "#Q.6 Write a function array_attributes that takes a NumPy array as input and returns its shape,size,and data type."
      ],
      "metadata": {
        "id": "4Zr096g0xt9V"
      },
      "execution_count": null,
      "outputs": []
    },
    {
      "cell_type": "code",
      "source": [
        "import numpy as np\n",
        "\n",
        "def array_attributes(arr):\n",
        "    \"\"\"\n",
        "    Returns the shape, size, and data type of the given NumPy array.\n",
        "\n",
        "    Parameters:\n",
        "    arr (numpy.ndarray): Input NumPy array.\n",
        "\n",
        "    Returns:\n",
        "    tuple: A tuple containing the shape, size, and data type of the array.\n",
        "    \"\"\"\n",
        "    shape = arr.shape\n",
        "    size = arr.size\n",
        "    dtype = arr.dtype\n",
        "\n",
        "    return shape, size, dtype\n",
        "arr = np.array([[1.5, 2.5], [3.5, 4.5]])\n",
        "attributes = array_attributes(arr)\n",
        "print(attributes)"
      ],
      "metadata": {
        "colab": {
          "base_uri": "https://localhost:8080/"
        },
        "id": "Jlcm-XfzMVVH",
        "outputId": "6e3e4da4-0003-4735-9a6b-a5766afb9c96"
      },
      "execution_count": null,
      "outputs": [
        {
          "output_type": "stream",
          "name": "stdout",
          "text": [
            "((2, 2), 4, dtype('float64'))\n"
          ]
        }
      ]
    },
    {
      "cell_type": "code",
      "source": [
        "#Q.7 Create a function array_dimension that takes a NumPy array as input and returns its dimensionality."
      ],
      "metadata": {
        "id": "UdUeVx5_MWRR"
      },
      "execution_count": null,
      "outputs": []
    },
    {
      "cell_type": "code",
      "source": [
        "import numpy as np\n",
        "\n",
        "def array_dimension(arr):\n",
        "    \"\"\"\n",
        "    Returns the dimensionality of the given NumPy array.\n",
        "\n",
        "    Parameters:\n",
        "    arr (numpy.ndarray): Input NumPy array.\n",
        "\n",
        "    Returns:\n",
        "    int: The number of dimensions (axes) of the array.\n",
        "    \"\"\"\n",
        "    return arr.ndim\n",
        "\n",
        "arr = np.array([[1, 2, 3], [4, 5, 6]])\n",
        "dimension = array_dimension(arr)\n",
        "print(dimension)"
      ],
      "metadata": {
        "colab": {
          "base_uri": "https://localhost:8080/"
        },
        "id": "scBBMWNRNlLd",
        "outputId": "267fadcf-ce0d-4485-8535-d94307904513"
      },
      "execution_count": null,
      "outputs": [
        {
          "output_type": "stream",
          "name": "stdout",
          "text": [
            "2\n"
          ]
        }
      ]
    },
    {
      "cell_type": "code",
      "source": [
        "#Q.8 Design a function item_size_info that takes a NumPy array as input and returns the item size and the total size in bytes."
      ],
      "metadata": {
        "id": "ovS2mwx6N6_1"
      },
      "execution_count": null,
      "outputs": []
    },
    {
      "cell_type": "code",
      "source": [
        "import numpy as np\n",
        "\n",
        "def item_size_info(arr):\n",
        "    \"\"\"\n",
        "    Returns the item size (size of each element) and the total size (in bytes) of the given NumPy array.\n",
        "\n",
        "    Parameters:\n",
        "    arr (numpy.ndarray): Input NumPy array.\n",
        "\n",
        "    Returns:\n",
        "    tuple: A tuple containing the item size in bytes and the total size in bytes of the array.\n",
        "    \"\"\"\n",
        "    item_size = arr.itemsize\n",
        "    total_size = arr.nbytes\n",
        "\n",
        "    return item_size, total_size\n",
        "\n",
        "arr = np.array([[1, 2, 3], [4, 5, 6]], dtype=np.float64)\n",
        "item_size, total_size = item_size_info(arr)\n",
        "print(f\"Item size: {item_size} bytes\")\n",
        "print(f\"Total size: {total_size} bytes\")"
      ],
      "metadata": {
        "colab": {
          "base_uri": "https://localhost:8080/"
        },
        "id": "1xXIiGHOP-VJ",
        "outputId": "765057ec-b872-4278-c34e-f49a79084925"
      },
      "execution_count": null,
      "outputs": [
        {
          "output_type": "stream",
          "name": "stdout",
          "text": [
            "Item size: 8 bytes\n",
            "Total size: 48 bytes\n"
          ]
        }
      ]
    },
    {
      "cell_type": "code",
      "source": [
        "#Q.9 Create a function array_strides that takes a NumPy array as input and returns the strides of the array."
      ],
      "metadata": {
        "id": "EhoXJHYPP_cZ"
      },
      "execution_count": null,
      "outputs": []
    },
    {
      "cell_type": "code",
      "source": [
        "import numpy as np\n",
        "\n",
        "def array_strides(arr):\n",
        "    \"\"\"\n",
        "    Returns the strides of the given NumPy array.\n",
        "\n",
        "    Parameters:\n",
        "    arr (numpy.ndarray): Input NumPy array.\n",
        "\n",
        "    Returns:\n",
        "    tuple: A tuple containing the strides of the array along each dimension.\n",
        "    \"\"\"\n",
        "    return arr.strides\n",
        "\n",
        "arr = np.array([[1, 2, 3], [4, 5, 6]])\n",
        "strides = array_strides(arr)\n",
        "print(strides)"
      ],
      "metadata": {
        "colab": {
          "base_uri": "https://localhost:8080/"
        },
        "id": "cx8gB1MxSI_V",
        "outputId": "b1cf6c5b-e294-41c5-fd8d-c05a9f659b95"
      },
      "execution_count": null,
      "outputs": [
        {
          "output_type": "stream",
          "name": "stdout",
          "text": [
            "(24, 8)\n"
          ]
        }
      ]
    },
    {
      "cell_type": "code",
      "source": [
        "#Q.10 Design a function shape_stride_relationship that takes a NumPy array as input and returns the shape and strides of the array."
      ],
      "metadata": {
        "id": "TUTWcgcSSJ8-"
      },
      "execution_count": null,
      "outputs": []
    },
    {
      "cell_type": "code",
      "source": [
        "import numpy as np\n",
        "\n",
        "def shape_stride_relationship(arr):\n",
        "    \"\"\"\n",
        "    Returns the shape and strides of the given NumPy array.\n",
        "\n",
        "    Parameters:\n",
        "    arr (numpy.ndarray): Input NumPy array.\n",
        "\n",
        "    Returns:\n",
        "    tuple: A tuple containing the shape and strides of the array.\n",
        "    \"\"\"\n",
        "    shape = arr.shape\n",
        "    strides = arr.strides\n",
        "\n",
        "    return shape, strides\n",
        "\n",
        "arr = np.array([[1, 2, 3], [4, 5, 6]])\n",
        "shape, strides = shape_stride_relationship(arr)\n",
        "print(f\"Shape: {shape}\")\n",
        "print(f\"Strides: {strides}\")"
      ],
      "metadata": {
        "colab": {
          "base_uri": "https://localhost:8080/"
        },
        "id": "WaR7i3VEUvwX",
        "outputId": "72159171-c9ba-45be-ee98-8ea4152bcb78"
      },
      "execution_count": null,
      "outputs": [
        {
          "output_type": "stream",
          "name": "stdout",
          "text": [
            "Shape: (2, 3)\n",
            "Strides: (24, 8)\n"
          ]
        }
      ]
    },
    {
      "cell_type": "code",
      "source": [
        "#Q.11 Create a function create_zeros_array that takes an integer 'n' as input and returns a NumPy array of zeros with 'n' elements."
      ],
      "metadata": {
        "id": "fjn8ctvuU1rv"
      },
      "execution_count": null,
      "outputs": []
    },
    {
      "cell_type": "code",
      "source": [
        "import numpy as np\n",
        "\n",
        "def create_zeros_array(n):\n",
        "    \"\"\"\n",
        "    Creates a NumPy array of zeros with 'n' elements.\n",
        "\n",
        "    Parameters:\n",
        "    n (int): The number of elements in the array.\n",
        "\n",
        "    Returns:\n",
        "    numpy.ndarray: A NumPy array of zeros with 'n' elements.\n",
        "    \"\"\"\n",
        "    return np.zeros(n)\n",
        "\n",
        "n = 5\n",
        "zeros_array = create_zeros_array(n)\n",
        "print(zeros_array)"
      ],
      "metadata": {
        "colab": {
          "base_uri": "https://localhost:8080/"
        },
        "id": "AYPTlovLV6tN",
        "outputId": "07dfb12b-a7c0-40b8-f2c3-8b4867e047b1"
      },
      "execution_count": null,
      "outputs": [
        {
          "output_type": "stream",
          "name": "stdout",
          "text": [
            "[0. 0. 0. 0. 0.]\n"
          ]
        }
      ]
    },
    {
      "cell_type": "code",
      "source": [
        "#Q.12 Write a function 'create _ones_matric' that takes integers 'rows' and 'cols' as inputs and generates a 2D NumPy array filled with ones of size 'rows x cols'."
      ],
      "metadata": {
        "id": "KHn4pXZZWG5F"
      },
      "execution_count": null,
      "outputs": []
    },
    {
      "cell_type": "code",
      "source": [
        "import numpy as np\n",
        "\n",
        "def create_ones_matrix(rows, cols):\n",
        "    \"\"\"\n",
        "    Create a 2D NumPy array filled with ones of size 'rows x cols'.\n",
        "\n",
        "    Parameters:\n",
        "    rows (int): The number of rows in the matrix.\n",
        "    cols (int): The number of columns in the matrix.\n",
        "\n",
        "    Returns:\n",
        "    numpy.ndarray: A 2D array of shape (rows, cols) filled with ones.\n",
        "    \"\"\"\n",
        "    return np.ones((rows, cols))\n",
        "\n",
        "matrix = create_ones_matrix(3, 4)\n",
        "print(matrix)"
      ],
      "metadata": {
        "colab": {
          "base_uri": "https://localhost:8080/"
        },
        "id": "9SwEqhLvRTqX",
        "outputId": "b12b63e0-5d6e-4b9d-fb4d-5793bdf2ef98"
      },
      "execution_count": null,
      "outputs": [
        {
          "output_type": "stream",
          "name": "stdout",
          "text": [
            "[[1. 1. 1. 1.]\n",
            " [1. 1. 1. 1.]\n",
            " [1. 1. 1. 1.]]\n"
          ]
        }
      ]
    },
    {
      "cell_type": "code",
      "source": [
        "#.13 Write a function 'generate_range_array'that takes integers start, stop,and step as arguments and creates a NumPy array with a range starting from 'start',ending at stop (exclusive),and with the specified 'step'."
      ],
      "metadata": {
        "id": "vbHYp5ixRd8c"
      },
      "execution_count": null,
      "outputs": []
    },
    {
      "cell_type": "code",
      "source": [
        "import numpy as np\n",
        "\n",
        "def generate_range_array(start, stop, step):\n",
        "    \"\"\"\n",
        "    Generate a NumPy array with values starting from 'start', ending at 'stop' (exclusive),\n",
        "    and with the specified 'step'.\n",
        "\n",
        "    Parameters:\n",
        "    start (int): The starting value of the range.\n",
        "    stop (int): The end value of the range (exclusive).\n",
        "    step (int): The step between values in the range.\n",
        "\n",
        "    Returns:\n",
        "    numpy.ndarray: An array with values from 'start' to 'stop' (exclusive) with the given 'step'.\n",
        "    \"\"\"\n",
        "    return np.arange(start, stop, step)\n",
        "\n",
        "array = generate_range_array(1, 10, 2)\n",
        "print(array)"
      ],
      "metadata": {
        "colab": {
          "base_uri": "https://localhost:8080/"
        },
        "id": "l-Dg4cO8S8Kb",
        "outputId": "37b68e99-dc8c-410f-a825-093796ff68de"
      },
      "execution_count": null,
      "outputs": [
        {
          "output_type": "stream",
          "name": "stdout",
          "text": [
            "[1 3 5 7 9]\n"
          ]
        }
      ]
    },
    {
      "cell_type": "code",
      "source": [
        "#.14 Design a function 'genarate_linear_space' that takes two floats'start','stop',and an integer 'num' as arguments and generates a NumPy array with num equally spaced values between 'start' and 'stop'(Inclusive)."
      ],
      "metadata": {
        "id": "P5dOXZWGThiX"
      },
      "execution_count": null,
      "outputs": []
    },
    {
      "cell_type": "code",
      "source": [
        "import numpy as np\n",
        "\n",
        "def generate_linear_space(start, stop, num):\n",
        "    \"\"\"\n",
        "    Generates a NumPy array with 'num' equally spaced values between 'start' and 'stop' (inclusive).\n",
        "\n",
        "    Parameters:\n",
        "    start (float): The starting value of the sequence.\n",
        "    stop (float): The end value of the sequence.\n",
        "    num (int): The number of equally spaced values to generate.\n",
        "\n",
        "    Returns:\n",
        "    numpy.ndarray: Array of equally spaced values.\n",
        "    \"\"\"\n",
        "    return np.linspace(start, stop, num)"
      ],
      "metadata": {
        "id": "0f5Yh-9FiJ5s"
      },
      "execution_count": null,
      "outputs": []
    },
    {
      "cell_type": "code",
      "source": [
        "arr = generate_linear_space(1.0, 10.0, 5)\n",
        "print(arr)"
      ],
      "metadata": {
        "colab": {
          "base_uri": "https://localhost:8080/"
        },
        "id": "0CyC0sjpktF-",
        "outputId": "20398306-6362-4f91-af55-6228a57cf357"
      },
      "execution_count": null,
      "outputs": [
        {
          "output_type": "stream",
          "name": "stdout",
          "text": [
            "[ 1.    3.25  5.5   7.75 10.  ]\n"
          ]
        }
      ]
    },
    {
      "cell_type": "code",
      "source": [
        "#Q.15 Create a function 'create_identity_matrix'that takes an integers'n' as pinput and generates a square identity matrix of size 'n x n'using 'numpy.eye.'"
      ],
      "metadata": {
        "id": "8s8jCsxuk6_1"
      },
      "execution_count": null,
      "outputs": []
    },
    {
      "cell_type": "code",
      "source": [
        "import numpy as np\n",
        "\n",
        "def create_identity_matrix(n):\n",
        "    \"\"\"Generates a square identity matrix of size n x n.\"\"\"\n",
        "    return np.eye(n)\n",
        "\n",
        "identity_matrix = create_identity_matrix(3)\n",
        "print(identity_matrix)"
      ],
      "metadata": {
        "colab": {
          "base_uri": "https://localhost:8080/"
        },
        "id": "wGJjEvMqVVkY",
        "outputId": "1c152ef0-8302-45d5-df4c-5cef6859b784"
      },
      "execution_count": null,
      "outputs": [
        {
          "output_type": "stream",
          "name": "stdout",
          "text": [
            "[[1. 0. 0.]\n",
            " [0. 1. 0.]\n",
            " [0. 0. 1.]]\n"
          ]
        }
      ]
    },
    {
      "cell_type": "code",
      "source": [
        "#Q.16 Write a function that takes a python list and converts it into a NumPy array."
      ],
      "metadata": {
        "id": "6tUA1C-iWEpV"
      },
      "execution_count": null,
      "outputs": []
    },
    {
      "cell_type": "code",
      "source": [
        "import numpy as np\n",
        "\n",
        "def list_to_numpy_array(py_list):\n",
        "    \"\"\"Converts a Python list into a NumPy array.\"\"\"\n",
        "    return np.array(py_list)\n",
        "\n",
        "my_list = [1, 2, 3, 4, 5,6]\n",
        "numpy_array = list_to_numpy_array(my_list)\n",
        "print(numpy_array)"
      ],
      "metadata": {
        "colab": {
          "base_uri": "https://localhost:8080/"
        },
        "id": "AoSPmUs9Zw4n",
        "outputId": "96f67b99-1e85-4e32-d3c3-7ef2d3030955"
      },
      "execution_count": null,
      "outputs": [
        {
          "output_type": "stream",
          "name": "stdout",
          "text": [
            "[1 2 3 4 5 6]\n"
          ]
        }
      ]
    },
    {
      "cell_type": "code",
      "source": [
        "#Q.17 Create a NumPy array and demonstrate the use of 'numpy.view' to create a new array object with the same data."
      ],
      "metadata": {
        "id": "yPf7MYjEZ0Cl"
      },
      "execution_count": null,
      "outputs": []
    },
    {
      "cell_type": "code",
      "source": [
        "import numpy as np\n",
        "\n",
        "original_array = np.array([1, 2, 3, 4, 5])\n",
        "\n",
        "view_array = original_array.view()\n",
        "\n",
        "print(\"Original Array:\", original_array)\n",
        "print(\"View Array:\", view_array)\n",
        "\n",
        "view_array[0] = 10\n",
        "\n",
        "print(\"\\nAfter modifying the view array:\")\n",
        "print(\"Original Array:\", original_array)\n",
        "print(\"View Array:\", view_array)"
      ],
      "metadata": {
        "colab": {
          "base_uri": "https://localhost:8080/"
        },
        "id": "_Del8jLFaORU",
        "outputId": "8e5b358d-17f6-484b-fd87-48eddd4f2217"
      },
      "execution_count": null,
      "outputs": [
        {
          "output_type": "stream",
          "name": "stdout",
          "text": [
            "Original Array: [1 2 3 4 5]\n",
            "View Array: [1 2 3 4 5]\n",
            "\n",
            "After modifying the view array:\n",
            "Original Array: [10  2  3  4  5]\n",
            "View Array: [10  2  3  4  5]\n"
          ]
        }
      ]
    },
    {
      "cell_type": "code",
      "source": [
        "#Q.18 Write a function that takes two NumPy arrays and concatenates them along a specified axis."
      ],
      "metadata": {
        "id": "TVdEUu4haU2s"
      },
      "execution_count": null,
      "outputs": []
    },
    {
      "cell_type": "code",
      "source": [
        "import numpy as np\n",
        "\n",
        "def concatenate_arrays(array1, array2, axis=0):\n",
        "    \"\"\"Concatenates two NumPy arrays along a specified axis.\"\"\"\n",
        "    return np.concatenate((array1, array2), axis=axis)\n",
        "\n",
        "array1 = np.array([[1, 2], [3, 4]])\n",
        "array2 = np.array([[5, 6], [7, 8]])\n",
        "\n",
        "result_axis_0 = concatenate_arrays(array1, array2, axis=0)\n",
        "print(\"Concatenated along axis 0:\\n\", result_axis_0)\n",
        "\n",
        "result_axis_1 = concatenate_arrays(array1, array2, axis=1)\n",
        "print(\"Concatenated along axis 1:\\n\", result_axis_1)"
      ],
      "metadata": {
        "colab": {
          "base_uri": "https://localhost:8080/"
        },
        "id": "o-T2_6bVa9-b",
        "outputId": "1a869878-fc41-4cc8-fbb0-d8416818dbaf"
      },
      "execution_count": null,
      "outputs": [
        {
          "output_type": "stream",
          "name": "stdout",
          "text": [
            "Concatenated along axis 0:\n",
            " [[1 2]\n",
            " [3 4]\n",
            " [5 6]\n",
            " [7 8]]\n",
            "Concatenated along axis 1:\n",
            " [[1 2 5 6]\n",
            " [3 4 7 8]]\n"
          ]
        }
      ]
    },
    {
      "cell_type": "code",
      "source": [
        "#Q.19 Create two NumPy arrays with different shapes and concatenate them horizontally using 'numpy.concatenate'."
      ],
      "metadata": {
        "id": "IxWyHWqqa-qL"
      },
      "execution_count": null,
      "outputs": []
    },
    {
      "cell_type": "code",
      "source": [
        "import numpy as np\n",
        "\n",
        "array1 = np.array([[1, 2], [3, 4]])\n",
        "array2 = np.array([[5], [6]])\n",
        "\n",
        "result = np.concatenate((array1, array2), axis=1)\n",
        "\n",
        "print(\"Array 1:\\n\", array1)\n",
        "print(\"Array 2:\\n\", array2)\n",
        "print(\"Concatenated Array:\\n\", result)"
      ],
      "metadata": {
        "colab": {
          "base_uri": "https://localhost:8080/"
        },
        "id": "iLV2eAmVcAXO",
        "outputId": "566020b8-73c7-49f9-87e8-bdbbb0619a7a"
      },
      "execution_count": null,
      "outputs": [
        {
          "output_type": "stream",
          "name": "stdout",
          "text": [
            "Array 1:\n",
            " [[1 2]\n",
            " [3 4]]\n",
            "Array 2:\n",
            " [[5]\n",
            " [6]]\n",
            "Concatenated Array:\n",
            " [[1 2 5]\n",
            " [3 4 6]]\n"
          ]
        }
      ]
    },
    {
      "cell_type": "code",
      "source": [
        "#Q.20 Write a function that vertically stacks multiple NumPy arrays given as a list."
      ],
      "metadata": {
        "id": "WyaLA8ykcGuR"
      },
      "execution_count": null,
      "outputs": []
    },
    {
      "cell_type": "code",
      "source": [
        "import numpy as np\n",
        "\n",
        "def vertical_stack(arrays):\n",
        "    \"\"\"Vertically stacks multiple NumPy arrays given as a list.\"\"\"\n",
        "    return np.vstack(arrays)\n",
        "\n",
        "array1 = np.array([[1, 2], [3, 4]])\n",
        "array2 = np.array([[5, 6]])\n",
        "array3 = np.array([[7, 8], [9, 10]])\n",
        "\n",
        "arrays_to_stack = [array1, array2, array3]\n",
        "\n",
        "result = vertical_stack(arrays_to_stack)\n",
        "\n",
        "print(\"Vertically Stacked Array:\\n\", result)"
      ],
      "metadata": {
        "colab": {
          "base_uri": "https://localhost:8080/"
        },
        "id": "EyTFx5cBe0f7",
        "outputId": "a301f9b6-cbb8-45eb-987a-8ffba4ee945c"
      },
      "execution_count": null,
      "outputs": [
        {
          "output_type": "stream",
          "name": "stdout",
          "text": [
            "Vertically Stacked Array:\n",
            " [[ 1  2]\n",
            " [ 3  4]\n",
            " [ 5  6]\n",
            " [ 7  8]\n",
            " [ 9 10]]\n"
          ]
        }
      ]
    },
    {
      "cell_type": "code",
      "source": [
        "#Q.21 Write a python function using NumPy to create an array of integers within a specified range (inclusive)with a given step size."
      ],
      "metadata": {
        "id": "0YVSLC-Ue5Cb"
      },
      "execution_count": null,
      "outputs": []
    },
    {
      "cell_type": "code",
      "source": [
        "import numpy as np\n",
        "\n",
        "def create_integer_array(start, end, step):\n",
        "    \"\"\"Creates an array of integers from start to end (inclusive) with a specified step size.\"\"\"\n",
        "    return np.arange(start, end + 1, step)\n",
        "\n",
        "result = create_integer_array(1, 10, 2)\n",
        "print(\"Generated Array:\", result)"
      ],
      "metadata": {
        "colab": {
          "base_uri": "https://localhost:8080/"
        },
        "id": "CqZ4rkIafxtS",
        "outputId": "796eed9f-91a9-4f9e-ad23-02e135f8a078"
      },
      "execution_count": null,
      "outputs": [
        {
          "output_type": "stream",
          "name": "stdout",
          "text": [
            "Generated Array: [1 3 5 7 9]\n"
          ]
        }
      ]
    },
    {
      "cell_type": "code",
      "source": [
        "#Q.22 Write a python function using NumPy to generate an array of 10 equally spaced values between 0 and 1 (inclusive)."
      ],
      "metadata": {
        "id": "6KqW8Zzlf5Y6"
      },
      "execution_count": null,
      "outputs": []
    },
    {
      "cell_type": "code",
      "source": [
        "import numpy as np\n",
        "\n",
        "def generate_equally_spaced_values(num_values=10, start=0, end=1):\n",
        "    \"\"\"Generates an array of equally spaced values between start and end (inclusive).\"\"\"\n",
        "    return np.linspace(start, end, num_values)\n",
        "\n",
        "result = generate_equally_spaced_values()\n",
        "print(\"Equally Spaced Values:\", result)"
      ],
      "metadata": {
        "colab": {
          "base_uri": "https://localhost:8080/"
        },
        "id": "ptvmrEGUg8vI",
        "outputId": "f7093b78-19cc-4376-fa3b-b2886c5c1cc8"
      },
      "execution_count": null,
      "outputs": [
        {
          "output_type": "stream",
          "name": "stdout",
          "text": [
            "Equally Spaced Values: [0.         0.11111111 0.22222222 0.33333333 0.44444444 0.55555556\n",
            " 0.66666667 0.77777778 0.88888889 1.        ]\n"
          ]
        }
      ]
    },
    {
      "cell_type": "code",
      "source": [
        "#Q.23 Write a python function using NumPy to create an array of 5 lagarithmically spaced values between 1 and 1000 (inclusive)"
      ],
      "metadata": {
        "id": "A1UEhEIjJx97"
      },
      "execution_count": null,
      "outputs": []
    },
    {
      "cell_type": "code",
      "source": [
        "import numpy as np\n",
        "\n",
        "def create_log_space_array():\n",
        "    return np.logspace(0, 3, num=5)\n",
        "\n",
        "array = create_log_space_array()\n",
        "print(array)"
      ],
      "metadata": {
        "colab": {
          "base_uri": "https://localhost:8080/"
        },
        "id": "LwR3rLboLFE2",
        "outputId": "b63a76fd-9564-4b1d-a1c7-243fcd49130c"
      },
      "execution_count": null,
      "outputs": [
        {
          "output_type": "stream",
          "name": "stdout",
          "text": [
            "[   1.            5.62341325   31.6227766   177.827941   1000.        ]\n"
          ]
        }
      ]
    },
    {
      "cell_type": "code",
      "source": [
        "#Q.24 Create a pandas dataframe using a NumPy array that ondition 5 rows and 3 columns,where the values are random integers between 1 and 100."
      ],
      "metadata": {
        "id": "4zIPbJY4Px1N"
      },
      "execution_count": null,
      "outputs": []
    },
    {
      "cell_type": "code",
      "source": [
        "import numpy as np\n",
        "import pandas as pd\n",
        "\n",
        "def create_random_dataframe():\n",
        "    random_array = np.random.randint(1, 101, size=(5, 3))\n",
        "\n",
        "    df = pd.DataFrame(random_array, columns=['Column 1', 'Column 2', 'Column 3'])\n",
        "\n",
        "    return df\n",
        "\n",
        "random_df = create_random_dataframe()\n",
        "print(random_df)"
      ],
      "metadata": {
        "colab": {
          "base_uri": "https://localhost:8080/"
        },
        "id": "xsO655fdQ8Ni",
        "outputId": "97d62091-db45-474c-addc-8b6b31a5ea89"
      },
      "execution_count": null,
      "outputs": [
        {
          "output_type": "stream",
          "name": "stdout",
          "text": [
            "   Column 1  Column 2  Column 3\n",
            "0        30        85         7\n",
            "1        44        60        74\n",
            "2        24        51        10\n",
            "3        36        45       100\n",
            "4        91        45        52\n"
          ]
        }
      ]
    },
    {
      "cell_type": "code",
      "source": [
        "#Q.25 Write a function that takes a pandas dataframe and replaces all negative values in a specific column with zeros.use NumPy operations within the pandas dataframe."
      ],
      "metadata": {
        "id": "S31m39ZqQ9BS"
      },
      "execution_count": null,
      "outputs": []
    },
    {
      "cell_type": "code",
      "source": [
        "import pandas as pd\n",
        "import numpy as np\n",
        "\n",
        "def replace_negatives_with_zero(df, column_name):\n",
        "    df[column_name] = np.where(df[column_name] < 0, 0, df[column_name])\n",
        "    return df\n",
        "\n",
        "data = {\n",
        "    'A': [1, -2, 3, -4, 5],\n",
        "    'B': [-1, 2, -3, 4, -5],\n",
        "    'C': [0, 0, 0, 0, 0]\n",
        "}\n",
        "df = pd.DataFrame(data)\n",
        "\n",
        "print(\"Original DataFrame:\")\n",
        "print(df)\n",
        "\n",
        "updated_df = replace_negatives_with_zero(df, 'A')\n",
        "print(\"\\nUpdated DataFrame:\")\n",
        "print(updated_df)"
      ],
      "metadata": {
        "colab": {
          "base_uri": "https://localhost:8080/"
        },
        "id": "IhITUtO5RkRq",
        "outputId": "8abf7439-7aa5-450b-99cc-9a075d5d2ffd"
      },
      "execution_count": null,
      "outputs": [
        {
          "output_type": "stream",
          "name": "stdout",
          "text": [
            "Original DataFrame:\n",
            "   A  B  C\n",
            "0  1 -1  0\n",
            "1 -2  2  0\n",
            "2  3 -3  0\n",
            "3 -4  4  0\n",
            "4  5 -5  0\n",
            "\n",
            "Updated DataFrame:\n",
            "   A  B  C\n",
            "0  1 -1  0\n",
            "1  0  2  0\n",
            "2  3 -3  0\n",
            "3  0  4  0\n",
            "4  5 -5  0\n"
          ]
        }
      ]
    },
    {
      "cell_type": "code",
      "source": [
        "#Q.26 Access the 3rd element from the given NumPy array.arr = np.array([10,20,30,40,50])"
      ],
      "metadata": {
        "id": "qbbY0p03R4eQ"
      },
      "execution_count": null,
      "outputs": []
    },
    {
      "cell_type": "code",
      "source": [
        "import numpy as np\n",
        "\n",
        "arr = np.array([10, 20, 30, 40, 50])\n",
        "\n",
        "third_element = arr[2]\n",
        "\n",
        "print(\"The 3rd element is:\", third_element)"
      ],
      "metadata": {
        "colab": {
          "base_uri": "https://localhost:8080/"
        },
        "id": "ktWjQrXZTHOt",
        "outputId": "712c9367-fc07-4a27-c49f-6ffb493aa719"
      },
      "execution_count": null,
      "outputs": [
        {
          "output_type": "stream",
          "name": "stdout",
          "text": [
            "The 3rd element is: 30\n"
          ]
        }
      ]
    },
    {
      "cell_type": "code",
      "source": [
        "#Q.27 Retrieve the element at index (1,2)from the 2D NumPy array.arr_2d = np.array([[1,2,3],[4,5,6],[7,8,9]])"
      ],
      "metadata": {
        "id": "m54Riiy4TOOV"
      },
      "execution_count": null,
      "outputs": []
    },
    {
      "cell_type": "code",
      "source": [
        "import numpy as np\n",
        "\n",
        "arr_2d = np.array([[1, 2, 3], [4, 5, 6], [7, 8, 9]])\n",
        "\n",
        "element = arr_2d[1, 2]\n",
        "\n",
        "print(\"The element at index (1, 2) is:\", element)"
      ],
      "metadata": {
        "colab": {
          "base_uri": "https://localhost:8080/"
        },
        "id": "rZocRjlNU2QU",
        "outputId": "ccdba312-65aa-420c-a052-7e6f002d6b89"
      },
      "execution_count": null,
      "outputs": [
        {
          "output_type": "stream",
          "name": "stdout",
          "text": [
            "The element at index (1, 2) is: 6\n"
          ]
        }
      ]
    },
    {
      "cell_type": "code",
      "source": [
        "#Q.28 Using boolean indexing,extract elements greater than 5 from the given NumPy array.arr = np.array([3,8,2,10,5,7])"
      ],
      "metadata": {
        "id": "5zD-D61RU6x6"
      },
      "execution_count": null,
      "outputs": []
    },
    {
      "cell_type": "code",
      "source": [
        "import numpy as np\n",
        "\n",
        "arr = np.array([3, 8, 2, 10, 5, 7])\n",
        "\n",
        "greater_than_five = arr[arr > 5]\n",
        "\n",
        "print(\"Elements greater than 5:\", greater_than_five)"
      ],
      "metadata": {
        "colab": {
          "base_uri": "https://localhost:8080/"
        },
        "id": "nEURAeALVft5",
        "outputId": "680b8668-aae3-4164-ed99-ae6742c14675"
      },
      "execution_count": null,
      "outputs": [
        {
          "output_type": "stream",
          "name": "stdout",
          "text": [
            "Elements greater than 5: [ 8 10  7]\n"
          ]
        }
      ]
    },
    {
      "cell_type": "code",
      "source": [
        "#Q.29 Perform basic slicing to extract elements from index 2 to 5 (inclusive)from the given NumPy array. arr = np.array([1,2,3,4,5,6,7,8,9])"
      ],
      "metadata": {
        "id": "SIgANboBVqbR"
      },
      "execution_count": null,
      "outputs": []
    },
    {
      "cell_type": "code",
      "source": [
        "import numpy as np\n",
        "\n",
        "arr = np.array([1, 2, 3, 4, 5, 6, 7, 8, 9])\n",
        "\n",
        "sliced_array = arr[2:6]\n",
        "\n",
        "print(\"Sliced array from index 2 to 5:\", sliced_array)"
      ],
      "metadata": {
        "colab": {
          "base_uri": "https://localhost:8080/"
        },
        "id": "ipTS8ItVWoR_",
        "outputId": "680604b0-63cb-4004-e528-3e47bc87dcdc"
      },
      "execution_count": null,
      "outputs": [
        {
          "output_type": "stream",
          "name": "stdout",
          "text": [
            "Sliced array from index 2 to 5: [3 4 5 6]\n"
          ]
        }
      ]
    },
    {
      "cell_type": "code",
      "source": [
        "#.30 Slice the 2D NumPy array to extract the sub-array'[[2,3],[5,6]]'from the given array. arr_2d = np.array([[1,2,3],[4,5,6],[7,8,9]])"
      ],
      "metadata": {
        "id": "QNNpSEirW5e1"
      },
      "execution_count": null,
      "outputs": []
    },
    {
      "cell_type": "code",
      "source": [
        "import numpy as np\n",
        "\n",
        "arr_2d = np.array([[1, 2, 3], [4, 5, 6], [7, 8, 9]])\n",
        "\n",
        "sub_array = arr_2d[0:2, 1:3]\n",
        "sub_array"
      ],
      "metadata": {
        "colab": {
          "base_uri": "https://localhost:8080/"
        },
        "id": "7kCvJz5IYNRc",
        "outputId": "633c5bcd-b269-49b7-ccc0-97334d37037d"
      },
      "execution_count": null,
      "outputs": [
        {
          "output_type": "execute_result",
          "data": {
            "text/plain": [
              "array([[2, 3],\n",
              "       [5, 6]])"
            ]
          },
          "metadata": {},
          "execution_count": 23
        }
      ]
    },
    {
      "cell_type": "code",
      "source": [
        "#Q.31 Write a NumPy function to extract elements in specific order from a given 2D array based on indices provided in another array."
      ],
      "metadata": {
        "id": "GoGC9rcgYbKj"
      },
      "execution_count": null,
      "outputs": []
    },
    {
      "cell_type": "code",
      "source": [
        "import numpy as np\n",
        "\n",
        "def extract_elements(arr, indices):\n",
        "    \"\"\"\n",
        "    Extract elements from a 2D array based on given indices.\n",
        "\n",
        "    Parameters:\n",
        "    arr (np.ndarray): A 2D NumPy array from which to extract elements.\n",
        "    indices (np.ndarray): A 1D array of tuples/lists where each tuple/list contains\n",
        "                          the (row, column) indices for extraction.\n",
        "\n",
        "    Returns:\n",
        "    np.ndarray: An array containing the extracted elements.\n",
        "    \"\"\"\n",
        "    indices = np.array(indices)\n",
        "\n",
        "    extracted_elements = arr[indices[:, 0], indices[:, 1]]\n",
        "\n",
        "    return extracted_elements\n",
        "\n",
        "arr = np.array([[1, 2, 3],\n",
        "                [4, 5, 6],\n",
        "                [7, 8, 9]])\n",
        "\n",
        "indices = np.array([[0, 1],\n",
        "                    [1, 2],\n",
        "                    [2, 0]])\n",
        "\n",
        "result = extract_elements(arr, indices)\n",
        "print(result)"
      ],
      "metadata": {
        "colab": {
          "base_uri": "https://localhost:8080/"
        },
        "id": "oKO67hCC8art",
        "outputId": "d2d93186-ca48-4fda-fd4f-a1dac8c5c490"
      },
      "execution_count": null,
      "outputs": [
        {
          "output_type": "stream",
          "name": "stdout",
          "text": [
            "[2 6 7]\n"
          ]
        }
      ]
    },
    {
      "cell_type": "code",
      "source": [
        "#Q.32 Create a NumPy function that filters elements greater than a threshold from a given 1D array using boolean indexing."
      ],
      "metadata": {
        "id": "SsjpTooq8lNa"
      },
      "execution_count": null,
      "outputs": []
    },
    {
      "cell_type": "code",
      "source": [
        "import numpy as np\n",
        "\n",
        "def filter_greater_than(arr, threshold):\n",
        "    \"\"\"\n",
        "    Filter elements greater than a given threshold from a 1D array.\n",
        "\n",
        "    Parameters:\n",
        "    arr (np.ndarray): A 1D NumPy array to filter.\n",
        "    threshold (float): The threshold value.\n",
        "\n",
        "    Returns:\n",
        "    np.ndarray: A 1D array containing elements greater than the threshold.\n",
        "    \"\"\"\n",
        "    arr = np.asarray(arr)\n",
        "\n",
        "    filtered_elements = arr[arr > threshold]\n",
        "\n",
        "    return filtered_elements\n",
        "\n",
        "arr = np.array([1, 5, 3, 8, 2, 7])\n",
        "threshold = 4\n",
        "\n",
        "result = filter_greater_than(arr, threshold)\n",
        "print(result)"
      ],
      "metadata": {
        "colab": {
          "base_uri": "https://localhost:8080/"
        },
        "id": "LWyQJpeV9Jnw",
        "outputId": "83e9f5eb-0fb1-4a3a-f803-b3f0a490a08c"
      },
      "execution_count": null,
      "outputs": [
        {
          "output_type": "stream",
          "name": "stdout",
          "text": [
            "[5 8 7]\n"
          ]
        }
      ]
    },
    {
      "cell_type": "code",
      "source": [
        "#Q.33 Develop a NumPy function that extracts specific elements from a 3D array using indices provided in three separate arrays for each dimension."
      ],
      "metadata": {
        "id": "vyQMB-s69OBA"
      },
      "execution_count": null,
      "outputs": []
    },
    {
      "cell_type": "code",
      "source": [
        "import numpy as np\n",
        "\n",
        "def extract_3d_elements(arr, row_indices, col_indices, depth_indices):\n",
        "    \"\"\"\n",
        "    Extract specific elements from a 3D array based on provided indices.\n",
        "\n",
        "    Parameters:\n",
        "    arr (np.ndarray): A 3D NumPy array from which to extract elements.\n",
        "    row_indices (np.ndarray): A 1D array of row indices.\n",
        "    col_indices (np.ndarray): A 1D array of column indices.\n",
        "    depth_indices (np.ndarray): A 1D array of depth indices.\n",
        "\n",
        "    Returns:\n",
        "    np.ndarray: An array containing the extracted elements.\n",
        "    \"\"\"\n",
        "    row_indices = np.asarray(row_indices)\n",
        "    col_indices = np.asarray(col_indices)\n",
        "    depth_indices = np.asarray(depth_indices)\n",
        "\n",
        "    extracted_elements = arr[row_indices, col_indices, depth_indices]\n",
        "\n",
        "    return extracted_elements\n",
        "\n",
        "arr = np.array([[[1, 2], [3, 4]],\n",
        "                 [[5, 6], [7, 8]],\n",
        "                 [[9, 10], [11, 12]]])\n",
        "\n",
        "row_indices = np.array([0, 1, 2])\n",
        "col_indices = np.array([1, 0, 1])\n",
        "depth_indices = np.array([0, 1, 0])\n",
        "\n",
        "result = extract_3d_elements(arr, row_indices, col_indices, depth_indices)\n",
        "print(result)"
      ],
      "metadata": {
        "colab": {
          "base_uri": "https://localhost:8080/"
        },
        "id": "DjW-YNMh-EhI",
        "outputId": "d14d576b-e1e3-4797-fbef-be86528ffd98"
      },
      "execution_count": null,
      "outputs": [
        {
          "output_type": "stream",
          "name": "stdout",
          "text": [
            "[ 3  6 11]\n"
          ]
        }
      ]
    },
    {
      "cell_type": "code",
      "source": [
        "#Q.34 Write a NumPy function that returns elements from an array where both two conditions are satisfied using boolean indexing."
      ],
      "metadata": {
        "id": "IMVn4Jw--PLV"
      },
      "execution_count": null,
      "outputs": []
    },
    {
      "cell_type": "code",
      "source": [
        "import numpy as np\n",
        "\n",
        "def filter_by_conditions(arr, condition1, condition2):\n",
        "    \"\"\"\n",
        "    Return elements from an array where both conditions are satisfied.\n",
        "\n",
        "    Parameters:\n",
        "    arr (np.ndarray): A NumPy array to filter.\n",
        "    condition1 (np.ndarray): A boolean array representing the first condition.\n",
        "    condition2 (np.ndarray): A boolean array representing the second condition.\n",
        "\n",
        "    Returns:\n",
        "    np.ndarray: A 1D array containing elements that satisfy both conditions.\n",
        "    \"\"\"\n",
        "    arr = np.asarray(arr)\n",
        "\n",
        "    combined_condition = condition1 & condition2\n",
        "\n",
        "    filtered_elements = arr[combined_condition]\n",
        "\n",
        "    return filtered_elements\n",
        "\n",
        "arr = np.array([1, 5, 3, 8, 2, 7])\n",
        "\n",
        "condition1 = arr > 2\n",
        "condition2 = arr < 8\n",
        "\n",
        "result = filter_by_conditions(arr, condition1, condition2)\n",
        "print(result)"
      ],
      "metadata": {
        "colab": {
          "base_uri": "https://localhost:8080/"
        },
        "id": "nfx29R_-_G-O",
        "outputId": "09b4a176-9ce7-4792-ee6c-3b35ccf51cae"
      },
      "execution_count": null,
      "outputs": [
        {
          "output_type": "stream",
          "name": "stdout",
          "text": [
            "[5 3 7]\n"
          ]
        }
      ]
    },
    {
      "cell_type": "code",
      "source": [
        "#Q.35 Create a NumPy function that extracts elements from a 2D array using row and column indices provided in separate arrays."
      ],
      "metadata": {
        "id": "b7gW2ahU_N-k"
      },
      "execution_count": null,
      "outputs": []
    },
    {
      "cell_type": "code",
      "source": [
        "import numpy as np\n",
        "\n",
        "def extract_elements(arr, row_indices, col_indices):\n",
        "    \"\"\"\n",
        "    Extracts elements from a 2D array using specified row and column indices.\n",
        "\n",
        "    Parameters:\n",
        "    arr (np.ndarray): 2D array from which to extract elements.\n",
        "    row_indices (np.ndarray or list): Array or list of row indices.\n",
        "    col_indices (np.ndarray or list): Array or list of column indices.\n",
        "\n",
        "    Returns:\n",
        "    np.ndarray: Array of extracted elements.\n",
        "    \"\"\"\n",
        "    return arr[row_indices, col_indices]\n",
        "\n",
        "if __name__ == \"__main__\":\n",
        "    array_2d = np.array([[1, 2, 3],\n",
        "                         [4, 5, 6],\n",
        "                         [7, 8, 9]])\n",
        "\n",
        "    rows = np.array([0, 1, 2])\n",
        "    cols = np.array([1, 0, 2])\n",
        "\n",
        "    extracted_elements = extract_elements(array_2d, rows, cols)\n",
        "    print(extracted_elements)"
      ],
      "metadata": {
        "colab": {
          "base_uri": "https://localhost:8080/"
        },
        "id": "PUGQT2L2DD_W",
        "outputId": "352701b2-23d2-408d-842b-ba6b658f181b"
      },
      "execution_count": null,
      "outputs": [
        {
          "output_type": "stream",
          "name": "stdout",
          "text": [
            "[2 4 9]\n"
          ]
        }
      ]
    },
    {
      "cell_type": "code",
      "source": [
        "#Q.36 Given an array arr of shape (3,3),add a scalar value of 5 to reach element using NumPy broadcasting."
      ],
      "metadata": {
        "id": "EkgDq1bCDH9c"
      },
      "execution_count": null,
      "outputs": []
    },
    {
      "cell_type": "code",
      "source": [
        "import numpy as np\n",
        "\n",
        "arr = np.array([[1, 2, 3],\n",
        "                [4, 5, 6],\n",
        "                [7, 8, 9]])\n",
        "\n",
        "result = arr + 5\n",
        "\n",
        "print(result)"
      ],
      "metadata": {
        "colab": {
          "base_uri": "https://localhost:8080/"
        },
        "id": "KmT2jZSqEY20",
        "outputId": "e7967e1f-7c70-42bc-a910-190e3a25ef94"
      },
      "execution_count": null,
      "outputs": [
        {
          "output_type": "stream",
          "name": "stdout",
          "text": [
            "[[ 6  7  8]\n",
            " [ 9 10 11]\n",
            " [12 13 14]]\n"
          ]
        }
      ]
    },
    {
      "cell_type": "code",
      "source": [
        "#Q.37 Consider two arrays arr1 of shape(1,3)and arr2 of shape(3,4).Multiply each row of arr 2 by the corresponding element in arr 1 using NumPy broadcasting."
      ],
      "metadata": {
        "id": "T6mrQjHBEoNp"
      },
      "execution_count": null,
      "outputs": []
    },
    {
      "cell_type": "code",
      "source": [
        "import numpy as np\n",
        "\n",
        "arr1 = np.array([1, 2, 3])\n",
        "arr2 = np.array([[4, 5, 6, 7],\n",
        "                 [8, 9, 10, 11],\n",
        "                 [12, 13, 14, 15]])\n",
        "\n",
        "result = arr2 * arr1[:, np.newaxis]\n",
        "\n",
        "print(result)\n"
      ],
      "metadata": {
        "colab": {
          "base_uri": "https://localhost:8080/"
        },
        "id": "flSRRlBYmf6L",
        "outputId": "b97e8019-37bd-40d6-de62-8eaa7c0e1bcb"
      },
      "execution_count": null,
      "outputs": [
        {
          "output_type": "stream",
          "name": "stdout",
          "text": [
            "[[ 4  5  6  7]\n",
            " [16 18 20 22]\n",
            " [36 39 42 45]]\n"
          ]
        }
      ]
    },
    {
      "cell_type": "code",
      "source": [
        "#Q.38 Given a 1D array arr1of shape(1,4)and a 2D array arr2 of shape (4,3),add arr1 to each row of arr2 using NumPy broadcasting."
      ],
      "metadata": {
        "id": "45Dq-ogZtHL8"
      },
      "execution_count": null,
      "outputs": []
    },
    {
      "cell_type": "code",
      "source": [
        "import numpy as np\n",
        "\n",
        "arr1 = np.array([[1, 2, 3, 4]])\n",
        "arr2 = np.array([[5, 6, 7],\n",
        "                 [8, 9, 10],\n",
        "                 [11, 12, 13],\n",
        "                 [14, 15, 16]])\n",
        "\n",
        "result = arr2 + arr1[:, :3]\n",
        "\n",
        "print(result)"
      ],
      "metadata": {
        "colab": {
          "base_uri": "https://localhost:8080/"
        },
        "id": "QqLi0RfhUz87",
        "outputId": "a06c210e-6d29-4390-e4e9-d493d90bd805"
      },
      "execution_count": null,
      "outputs": [
        {
          "output_type": "stream",
          "name": "stdout",
          "text": [
            "[[ 6  8 10]\n",
            " [ 9 11 13]\n",
            " [12 14 16]\n",
            " [15 17 19]]\n"
          ]
        }
      ]
    },
    {
      "cell_type": "code",
      "source": [
        "#Q.39 Consider two arrays arr1 of shape(3,1)and arr2 of shape(1,3).add these arrays using NumPy broadcasting."
      ],
      "metadata": {
        "id": "s_ZvIp_xVWiC"
      },
      "execution_count": null,
      "outputs": []
    },
    {
      "cell_type": "code",
      "source": [
        "import numpy as np\n",
        "\n",
        "arr1 = np.array([[1],\n",
        "                 [2],\n",
        "                 [3]])\n",
        "\n",
        "arr2 = np.array([[4, 5, 6]])\n",
        "\n",
        "result = arr1 + arr2\n",
        "\n",
        "print(result)"
      ],
      "metadata": {
        "colab": {
          "base_uri": "https://localhost:8080/"
        },
        "id": "_ZMMABHOWAUh",
        "outputId": "512fe984-5801-4095-c25e-3809a8290d39"
      },
      "execution_count": null,
      "outputs": [
        {
          "output_type": "stream",
          "name": "stdout",
          "text": [
            "[[5 6 7]\n",
            " [6 7 8]\n",
            " [7 8 9]]\n"
          ]
        }
      ]
    },
    {
      "cell_type": "code",
      "source": [
        "#Q.40 Given arrays arr1 of shape (2,3)and arr2 of shape (2,2),perform multiplication using NumPy broadcasting.Handle the shape incompatibility."
      ],
      "metadata": {
        "id": "afXjOnlFWJSw"
      },
      "execution_count": null,
      "outputs": []
    },
    {
      "cell_type": "code",
      "source": [
        "import numpy as np\n",
        "\n",
        "arr1 = np.array([[1, 2, 3],\n",
        "                 [4, 5, 6]])\n",
        "\n",
        "arr2 = np.array([[7, 8],\n",
        "                 [9, 10]])\n",
        "\n",
        "arr2_expanded = np.repeat(arr2[:, np.newaxis, :], 3, axis=1)\n",
        "\n",
        "result = arr1[:, :, np.newaxis] * arr2_expanded\n",
        "\n",
        "print(result)\n"
      ],
      "metadata": {
        "colab": {
          "base_uri": "https://localhost:8080/"
        },
        "id": "qSqFhPuEXFbW",
        "outputId": "92e7e515-47ba-473b-dc23-9d10fe5fa9ed"
      },
      "execution_count": null,
      "outputs": [
        {
          "output_type": "stream",
          "name": "stdout",
          "text": [
            "[[[ 7  8]\n",
            "  [14 16]\n",
            "  [21 24]]\n",
            "\n",
            " [[36 40]\n",
            "  [45 50]\n",
            "  [54 60]]]\n"
          ]
        }
      ]
    },
    {
      "cell_type": "code",
      "source": [
        "#.41 Calculate column-wise mean for the given array: arr = np.array([[1,2,3],[4,5,6]])"
      ],
      "metadata": {
        "id": "mKOfCyl5YW8k"
      },
      "execution_count": null,
      "outputs": []
    },
    {
      "cell_type": "code",
      "source": [
        "import numpy as np\n",
        "\n",
        "arr = np.array([[1, 2, 3],\n",
        "                [4, 5, 6]])\n",
        "\n",
        "column_mean = np.mean(arr, axis=0)\n",
        "\n",
        "print(column_mean)\n"
      ],
      "metadata": {
        "colab": {
          "base_uri": "https://localhost:8080/"
        },
        "id": "ffH-6vblZIc7",
        "outputId": "4d0f01f5-8971-42d3-f4ba-076a6504abd5"
      },
      "execution_count": null,
      "outputs": [
        {
          "output_type": "stream",
          "name": "stdout",
          "text": [
            "[2.5 3.5 4.5]\n"
          ]
        }
      ]
    },
    {
      "cell_type": "code",
      "source": [
        "#Q.42 Find maximum value in each row of the given array: arr = np.array([[1,2,3],[4,5,6]])"
      ],
      "metadata": {
        "id": "cPns_z7GZaXy"
      },
      "execution_count": null,
      "outputs": []
    },
    {
      "cell_type": "code",
      "source": [
        "import numpy as np\n",
        "\n",
        "arr = np.array([[1, 2, 3],\n",
        "                [4, 5, 6]])\n",
        "\n",
        "row_max = np.max(arr, axis=1)\n",
        "\n",
        "print(row_max)"
      ],
      "metadata": {
        "colab": {
          "base_uri": "https://localhost:8080/"
        },
        "id": "QD4r4MsYaHBh",
        "outputId": "e3826b8c-faf1-418a-9182-63a20e71a45e"
      },
      "execution_count": null,
      "outputs": [
        {
          "output_type": "stream",
          "name": "stdout",
          "text": [
            "[3 6]\n"
          ]
        }
      ]
    },
    {
      "cell_type": "code",
      "source": [
        "#Q.43 For the given array,find indices of maximum value in each column. arr = np.array([[1,2,3],[4,5,6]])"
      ],
      "metadata": {
        "id": "tRIIfsWsaH7A"
      },
      "execution_count": null,
      "outputs": []
    },
    {
      "cell_type": "code",
      "source": [
        "import numpy as np\n",
        "\n",
        "arr = np.array([[1, 2, 3],\n",
        "                [4, 5, 6]])\n",
        "\n",
        "column_max_indices = np.argmax(arr, axis=0)\n",
        "\n",
        "print(column_max_indices)"
      ],
      "metadata": {
        "colab": {
          "base_uri": "https://localhost:8080/"
        },
        "id": "jWTjm2hAaoDf",
        "outputId": "6ec478f2-e372-4cda-8e89-cc67536a8640"
      },
      "execution_count": null,
      "outputs": [
        {
          "output_type": "stream",
          "name": "stdout",
          "text": [
            "[1 1 1]\n"
          ]
        }
      ]
    },
    {
      "cell_type": "code",
      "source": [
        "#Q.44 For the given array,apply custom function to calculate moving sum along rows. arr = np.array([[1,2,3],[4,5,6]])"
      ],
      "metadata": {
        "id": "My3941SfasS3"
      },
      "execution_count": null,
      "outputs": []
    },
    {
      "cell_type": "code",
      "source": [
        "import numpy as np\n",
        "\n",
        "arr = np.array([[1, 2, 3],\n",
        "                [4, 5, 6]])\n",
        "\n",
        "def moving_sum(arr, window_size):\n",
        "    return np.convolve(arr, np.ones(window_size), mode='valid')\n",
        "\n",
        "result = np.array([moving_sum(row, window_size=2) for row in arr])\n",
        "\n",
        "print(result)"
      ],
      "metadata": {
        "colab": {
          "base_uri": "https://localhost:8080/"
        },
        "id": "3kE9gAi7bQ12",
        "outputId": "e8221705-a257-4639-bb88-3d53956b3139"
      },
      "execution_count": null,
      "outputs": [
        {
          "output_type": "stream",
          "name": "stdout",
          "text": [
            "[[ 3.  5.]\n",
            " [ 9. 11.]]\n"
          ]
        }
      ]
    },
    {
      "cell_type": "code",
      "source": [
        "#Q.45 In the given array,check if all elements in each column are even. arr = np.array([[2,4,6],[3,5,7]])"
      ],
      "metadata": {
        "id": "bVuXrJfmbVSu"
      },
      "execution_count": null,
      "outputs": []
    },
    {
      "cell_type": "code",
      "source": [
        "import numpy as np\n",
        "\n",
        "arr = np.array([[2, 4, 6],\n",
        "                [3, 5, 7]])\n",
        "\n",
        "all_even = np.all(arr % 2 == 0, axis=0)\n",
        "\n",
        "print(all_even)"
      ],
      "metadata": {
        "colab": {
          "base_uri": "https://localhost:8080/"
        },
        "id": "3MjES4dlb16t",
        "outputId": "1c59999b-1314-48d3-fde2-e2c93385d33e"
      },
      "execution_count": null,
      "outputs": [
        {
          "output_type": "stream",
          "name": "stdout",
          "text": [
            "[False False False]\n"
          ]
        }
      ]
    },
    {
      "cell_type": "code",
      "source": [
        "#Q.46 Given a NumPy array arr,reshape it into a matrix of dimensions'm' rows and 'n'columns.Return the reshaped matrix.Original_array = np.array([1,2,3,4,5,6])"
      ],
      "metadata": {
        "id": "FUZRN2WPb9ZV"
      },
      "execution_count": null,
      "outputs": []
    },
    {
      "cell_type": "code",
      "source": [
        "import numpy as np\n",
        "\n",
        "original_array = np.array([1, 2, 3, 4, 5, 6])\n",
        "\n",
        "def reshape_array(arr, m, n):\n",
        "    if arr.size == m * n:\n",
        "        reshaped_matrix = arr.reshape(m, n)\n",
        "        return reshaped_matrix\n",
        "    else:\n",
        "        return \"Cannot reshape array to the given dimensions.\"\n",
        "\n",
        "m = 2\n",
        "n = 3\n",
        "reshaped_matrix = reshape_array(original_array, m, n)\n",
        "print(reshaped_matrix)"
      ],
      "metadata": {
        "colab": {
          "base_uri": "https://localhost:8080/"
        },
        "id": "HJsbi1LzeRE4",
        "outputId": "ba724f20-0706-4eb6-b0db-cb556f4be1a3"
      },
      "execution_count": null,
      "outputs": [
        {
          "output_type": "stream",
          "name": "stdout",
          "text": [
            "[[1 2 3]\n",
            " [4 5 6]]\n"
          ]
        }
      ]
    },
    {
      "cell_type": "code",
      "source": [
        "#Q.47 Create a function that takes a matrix as input and returns the flattened array.input_matrix = np.array([[1,2,3],[4,5,6]])"
      ],
      "metadata": {
        "id": "c-4225Jsexhn"
      },
      "execution_count": null,
      "outputs": []
    },
    {
      "cell_type": "code",
      "source": [
        "import numpy as np\n",
        "\n",
        "def flatten_matrix(matrix):\n",
        "    return matrix.flatten()\n",
        "\n",
        "input_matrix = np.array([[1, 2, 3], [4, 5, 6]])\n",
        "flattened_array = flatten_matrix(input_matrix)\n",
        "print(flattened_array)"
      ],
      "metadata": {
        "colab": {
          "base_uri": "https://localhost:8080/"
        },
        "id": "CaQTcYDAfdJN",
        "outputId": "2ac7a94c-1c76-4f85-a663-ec1a27b490be"
      },
      "execution_count": null,
      "outputs": [
        {
          "output_type": "stream",
          "name": "stdout",
          "text": [
            "[1 2 3 4 5 6]\n"
          ]
        }
      ]
    },
    {
      "cell_type": "code",
      "source": [
        "#Q.48 Write a function that concatenates two given arrays along a specified axis.array1 = np.array([[1,2],[3,4]]) array2 = np.array([[5,6],[7,8]])"
      ],
      "metadata": {
        "id": "7J7FdmB3fmul"
      },
      "execution_count": null,
      "outputs": []
    },
    {
      "cell_type": "code",
      "source": [
        "import numpy as np\n",
        "\n",
        "def concatenate_arrays(arr1, arr2, axis):\n",
        "    return np.concatenate((arr1, arr2), axis=axis)\n",
        "\n",
        "array1 = np.array([[1, 2], [3, 4]])\n",
        "array2 = np.array([[5, 6], [7, 8]])\n",
        "\n",
        "concatenated_array_axis0 = concatenate_arrays(array1, array2, axis=0)\n",
        "print(\"Concatenated along axis 0 (rows):\\n\", concatenated_array_axis0)\n",
        "\n",
        "concatenated_array_axis1 = concatenate_arrays(array1, array2, axis=1)\n",
        "print(\"Concatenated along axis 1 (columns):\\n\", concatenated_array_axis1)"
      ],
      "metadata": {
        "colab": {
          "base_uri": "https://localhost:8080/"
        },
        "id": "xMRyaTMviZE5",
        "outputId": "8e34cffa-7313-4286-9ffc-b8761b5b3176"
      },
      "execution_count": null,
      "outputs": [
        {
          "output_type": "stream",
          "name": "stdout",
          "text": [
            "Concatenated along axis 0 (rows):\n",
            " [[1 2]\n",
            " [3 4]\n",
            " [5 6]\n",
            " [7 8]]\n",
            "Concatenated along axis 1 (columns):\n",
            " [[1 2 5 6]\n",
            " [3 4 7 8]]\n"
          ]
        }
      ]
    },
    {
      "cell_type": "code",
      "source": [
        "#Q.49 Create a function that splits an array into multiple sub_arrays along a specified axis.Original_array = np.array([[1,2,3],[4,5,6],[7,8,9]])"
      ],
      "metadata": {
        "id": "RkUhB39tiZsK"
      },
      "execution_count": null,
      "outputs": []
    },
    {
      "cell_type": "code",
      "source": [
        "import numpy as np\n",
        "\n",
        "def split_array(arr, indices, axis):\n",
        "    return np.split(arr, indices, axis)\n",
        "\n",
        "original_array = np.array([[1, 2, 3], [4, 5, 6], [7, 8, 9]])\n",
        "\n",
        "split_result_axis0 = split_array(original_array, 3, axis=0)\n",
        "print(\"Split along axis 0 (rows):\\n\", split_result_axis0)\n",
        "\n",
        "split_result_axis1 = split_array(original_array, 3, axis=1)\n",
        "print(\"Split along axis 1 (columns):\\n\", split_result_axis1)"
      ],
      "metadata": {
        "colab": {
          "base_uri": "https://localhost:8080/"
        },
        "id": "bZb8vUvkjRgW",
        "outputId": "b164fca6-4b08-47dc-ad32-a57f7d66cb76"
      },
      "execution_count": null,
      "outputs": [
        {
          "output_type": "stream",
          "name": "stdout",
          "text": [
            "Split along axis 0 (rows):\n",
            " [array([[1, 2, 3]]), array([[4, 5, 6]]), array([[7, 8, 9]])]\n",
            "Split along axis 1 (columns):\n",
            " [array([[1],\n",
            "       [4],\n",
            "       [7]]), array([[2],\n",
            "       [5],\n",
            "       [8]]), array([[3],\n",
            "       [6],\n",
            "       [9]])]\n"
          ]
        }
      ]
    },
    {
      "cell_type": "code",
      "source": [
        "#Q.50 Write a function that inserts and then deletes elements from a given array at specified indices.Original_array = np.array([1,2,3,4,5]) indices_to_insert = [2,4] values_to_insert = [10,11] indices_to_delete = [1,3]"
      ],
      "metadata": {
        "id": "5TWqRv6FkCPt"
      },
      "execution_count": null,
      "outputs": []
    },
    {
      "cell_type": "code",
      "source": [
        "import numpy as np\n",
        "\n",
        "def insert_and_delete(arr, insert_indices, values_to_insert, delete_indices):\n",
        "    modified_array = np.insert(arr, insert_indices, values_to_insert)\n",
        "\n",
        "    modified_array = np.delete(modified_array, delete_indices)\n",
        "\n",
        "    return modified_array\n",
        "\n",
        "original_array = np.array([1, 2, 3, 4, 5])\n",
        "indices_to_insert = [2, 4]\n",
        "values_to_insert = [10, 11]\n",
        "indices_to_delete = [1, 3]\n",
        "\n",
        "modified_array = insert_and_delete(original_array, indices_to_insert, values_to_insert, indices_to_delete)\n",
        "print(\"Modified array:\", modified_array)"
      ],
      "metadata": {
        "colab": {
          "base_uri": "https://localhost:8080/"
        },
        "id": "3zCFO5Y2q9Bv",
        "outputId": "b9be5f6a-5470-457e-8c17-61afb95aa860"
      },
      "execution_count": null,
      "outputs": [
        {
          "output_type": "stream",
          "name": "stdout",
          "text": [
            "Modified array: [ 1 10  4 11  5]\n"
          ]
        }
      ]
    },
    {
      "cell_type": "code",
      "source": [
        "#Q.51 Create a numPy array'arr1'with random integers and another array'arr2'with integers from 1 to 10. Perform element-wise addition between'arr1'and'arr2'."
      ],
      "metadata": {
        "id": "90jkXh_tq-jX"
      },
      "execution_count": null,
      "outputs": []
    },
    {
      "cell_type": "code",
      "source": [
        "import numpy as np\n",
        "\n",
        "arr1 = np.arange(10, 0, -1)\n",
        "\n",
        "arr2 = np.arange(1, 11)\n",
        "\n",
        "result = arr1 - arr2\n",
        "\n",
        "print(\"arr1:\")\n",
        "print(arr1)\n",
        "print(\"\\narr2:\")\n",
        "print(arr2)\n",
        "print(\"\\nResult of element-wise subtraction:\")\n",
        "print(result)"
      ],
      "metadata": {
        "colab": {
          "base_uri": "https://localhost:8080/"
        },
        "id": "OXoSgIYfoBFD",
        "outputId": "4d24f9a9-5d57-4ebc-93ca-5563271ebd6c"
      },
      "execution_count": null,
      "outputs": [
        {
          "output_type": "stream",
          "name": "stdout",
          "text": [
            "arr1:\n",
            "[10  9  8  7  6  5  4  3  2  1]\n",
            "\n",
            "arr2:\n",
            "[ 1  2  3  4  5  6  7  8  9 10]\n",
            "\n",
            "Result of element-wise subtraction:\n",
            "[ 9  7  5  3  1 -1 -3 -5 -7 -9]\n"
          ]
        }
      ]
    },
    {
      "cell_type": "code",
      "source": [
        "#Q.52 Genarate a NumPy array'arr1'with sequential integers from 10 to 1 and another array'arr2'with integers from 1 to 10. Subtract'arr2'from'arr1'element-wise."
      ],
      "metadata": {
        "id": "eQBrajsRjXW2"
      },
      "execution_count": null,
      "outputs": []
    },
    {
      "cell_type": "code",
      "source": [
        "import numpy as np\n",
        "\n",
        "arr1 = np.arange(10, 0, -1)\n",
        "\n",
        "arr2 = np.arange(1, 11)\n",
        "\n",
        "result = arr1 - arr2\n",
        "\n",
        "print(\"arr1:\")\n",
        "print(arr1)\n",
        "print(\"\\narr2:\")\n",
        "print(arr2)\n",
        "print(\"\\nResult of element-wise subtraction:\")\n",
        "print(result)"
      ],
      "metadata": {
        "colab": {
          "base_uri": "https://localhost:8080/"
        },
        "id": "TyElO-7Xnfyg",
        "outputId": "bd1dece5-e130-4a32-9e72-6e0f3e9e4984"
      },
      "execution_count": null,
      "outputs": [
        {
          "output_type": "stream",
          "name": "stdout",
          "text": [
            "arr1:\n",
            "[10  9  8  7  6  5  4  3  2  1]\n",
            "\n",
            "arr2:\n",
            "[ 1  2  3  4  5  6  7  8  9 10]\n",
            "\n",
            "Result of element-wise subtraction:\n",
            "[ 9  7  5  3  1 -1 -3 -5 -7 -9]\n"
          ]
        }
      ]
    },
    {
      "cell_type": "code",
      "source": [
        "#Q.53 Create a NumPy array'arr1'with andom integers and another array'arr2'with integers from 1 to 5.Perform element-wise multiplication between'arr1'and'arr2'."
      ],
      "metadata": {
        "id": "9X2gnS7JngpX"
      },
      "execution_count": null,
      "outputs": []
    },
    {
      "cell_type": "code",
      "source": [
        "import numpy as np\n",
        "\n",
        "arr1 = np.random.randint(1, 100, size=(3, 5))\n",
        "\n",
        "arr2 = np.arange(1, 6)\n",
        "arr2 = arr2.reshape(1, 5)\n",
        "\n",
        "result = arr1 * arr2\n",
        "\n",
        "print(\"arr1:\")\n",
        "print(arr1)\n",
        "print(\"\\narr2:\")\n",
        "print(arr2)\n",
        "print(\"\\nResult of element-wise multiplication:\")\n",
        "print(result)"
      ],
      "metadata": {
        "colab": {
          "base_uri": "https://localhost:8080/"
        },
        "id": "FjHES2qBosRW",
        "outputId": "ff955546-f514-4eba-fbf5-5262e3c0fb68"
      },
      "execution_count": null,
      "outputs": [
        {
          "output_type": "stream",
          "name": "stdout",
          "text": [
            "arr1:\n",
            "[[27 33 26 90 75]\n",
            " [26 46 27  9 34]\n",
            " [50 33 13 63 59]]\n",
            "\n",
            "arr2:\n",
            "[[1 2 3 4 5]]\n",
            "\n",
            "Result of element-wise multiplication:\n",
            "[[ 27  66  78 360 375]\n",
            " [ 26  92  81  36 170]\n",
            " [ 50  66  39 252 295]]\n"
          ]
        }
      ]
    },
    {
      "cell_type": "code",
      "source": [
        "#Q.54 Generate a NumPy array'arr1'with even integers from 2 to 10 and another array'arr2' with integers from 1 to 5. Perform element-wise division of'arr1'by'arr2'."
      ],
      "metadata": {
        "id": "I7fW-j0-o08-"
      },
      "execution_count": null,
      "outputs": []
    },
    {
      "cell_type": "code",
      "source": [
        "import numpy as np\n",
        "\n",
        "arr1 = np.arange(2, 11, 2)\n",
        "\n",
        "arr2 = np.arange(1, 6)\n",
        "\n",
        "result = arr1 / arr2\n",
        "\n",
        "print(\"arr1:\")\n",
        "print(arr1)\n",
        "print(\"\\narr2:\")\n",
        "print(arr2)\n",
        "print(\"\\nResult of element-wise division:\")\n",
        "print(result)"
      ],
      "metadata": {
        "colab": {
          "base_uri": "https://localhost:8080/"
        },
        "id": "1ospA13FptWs",
        "outputId": "b9c816ca-8289-4412-b519-d82362d5889e"
      },
      "execution_count": null,
      "outputs": [
        {
          "output_type": "stream",
          "name": "stdout",
          "text": [
            "arr1:\n",
            "[ 2  4  6  8 10]\n",
            "\n",
            "arr2:\n",
            "[1 2 3 4 5]\n",
            "\n",
            "Result of element-wise division:\n",
            "[2. 2. 2. 2. 2.]\n"
          ]
        }
      ]
    },
    {
      "cell_type": "code",
      "source": [
        "#Q.55 Create a NumPy array'arr1'with integers from 1 to 5 and another array'arr2'with the same numbers reversed.Calculate the exponentiation of'arr1'raised to the power of'arr2'element-wise."
      ],
      "metadata": {
        "id": "RgejbtrFpyJM"
      },
      "execution_count": null,
      "outputs": []
    },
    {
      "cell_type": "code",
      "source": [
        "import numpy as np\n",
        "\n",
        "arr1 = np.array([1, 2, 3, 4, 5])\n",
        "\n",
        "arr2 = arr1[::-1]\n",
        "\n",
        "result = np.power(arr1, arr2)\n",
        "\n",
        "print(\"arr1:\", arr1)\n",
        "print(\"arr2:\", arr2)\n",
        "print(\"Result of arr1 raised to the power of arr2:\", result)"
      ],
      "metadata": {
        "colab": {
          "base_uri": "https://localhost:8080/"
        },
        "id": "QvKnT4jJebAv",
        "outputId": "4128f160-3dd5-4dd5-8d60-bfce9bf32845"
      },
      "execution_count": null,
      "outputs": [
        {
          "output_type": "stream",
          "name": "stdout",
          "text": [
            "arr1: [1 2 3 4 5]\n",
            "arr2: [5 4 3 2 1]\n",
            "Result of arr1 raised to the power of arr2: [ 1 16 27 16  5]\n"
          ]
        }
      ]
    },
    {
      "cell_type": "code",
      "source": [
        "#Q.56 Write a function that counts the occurrences of a specific substring within a NumPy array of strings.arr = np.array(['hello','world','hello','numpy','hello'])"
      ],
      "metadata": {
        "id": "Hp7QL7hSg-UZ"
      },
      "execution_count": null,
      "outputs": []
    },
    {
      "cell_type": "code",
      "source": [
        "import numpy as np\n",
        "\n",
        "def count_substring(arr, substring):\n",
        "    count = np.sum(np.char.count(arr, substring))\n",
        "    return count\n",
        "\n",
        "arr = np.array(['hello', 'world', 'hello', 'numpy', 'hello'])\n",
        "substring = 'hello'\n",
        "\n",
        "result = count_substring(arr, substring)\n",
        "print(f\"The substring '{substring}' occurs {result} times in the array.\")"
      ],
      "metadata": {
        "colab": {
          "base_uri": "https://localhost:8080/"
        },
        "id": "aRVt3hWRimZM",
        "outputId": "789eb0f1-c905-458e-d058-c1bc57ddd1c8"
      },
      "execution_count": null,
      "outputs": [
        {
          "output_type": "stream",
          "name": "stdout",
          "text": [
            "The substring 'hello' occurs 3 times in the array.\n"
          ]
        }
      ]
    },
    {
      "cell_type": "code",
      "source": [
        "#Q.57 Write a function that extracts uppercase characters from a NumPy array of strings.arr=np.array(['Hello','World','OpenAI','GPT'])"
      ],
      "metadata": {
        "id": "E0ByKa0giwNU"
      },
      "execution_count": null,
      "outputs": []
    },
    {
      "cell_type": "code",
      "source": [
        "import numpy as np\n",
        "\n",
        "def extract_uppercase(arr):\n",
        "    uppercase_chars = [''.join([char for char in string if char.isupper()]) for string in arr]\n",
        "    return uppercase_chars\n",
        "\n",
        "arr = np.array(['Hello', 'World', 'OpenAI', 'GPT'])\n",
        "\n",
        "result = extract_uppercase(arr)\n",
        "print(\"Uppercase characters extracted:\", result)"
      ],
      "metadata": {
        "colab": {
          "base_uri": "https://localhost:8080/"
        },
        "id": "yIlzjCGykPca",
        "outputId": "72244864-76f4-49e6-e4c2-0d1835dba0d9"
      },
      "execution_count": null,
      "outputs": [
        {
          "output_type": "stream",
          "name": "stdout",
          "text": [
            "Uppercase characters extracted: ['H', 'W', 'OAI', 'GPT']\n"
          ]
        }
      ]
    },
    {
      "cell_type": "code",
      "source": [
        "#Q.58 Write a function that replaces occurrence of a substring in a NumPy array of strings with a new string.arr = np.array(['apple','banana','grape','pineapple'])"
      ],
      "metadata": {
        "id": "RTgLlE2KkcVI"
      },
      "execution_count": null,
      "outputs": []
    },
    {
      "cell_type": "code",
      "source": [
        "import numpy as np\n",
        "\n",
        "def replace_substring(arr, old_substring, new_substring):\n",
        "    replaced_arr = np.char.replace(arr, old_substring, new_substring)\n",
        "    return replaced_arr\n",
        "\n",
        "arr = np.array(['apple', 'banana', 'grape', 'pineapple'])\n",
        "old_substring = 'apple'\n",
        "new_substring = 'orange'\n",
        "\n",
        "result = replace_substring(arr, old_substring, new_substring)\n",
        "print(\"Array after replacement:\", result)"
      ],
      "metadata": {
        "colab": {
          "base_uri": "https://localhost:8080/"
        },
        "id": "3Zd15M9Cl43f",
        "outputId": "bb0f8f44-0945-422b-a351-befe4b33a983"
      },
      "execution_count": null,
      "outputs": [
        {
          "output_type": "stream",
          "name": "stdout",
          "text": [
            "Array after replacement: ['orange' 'banana' 'grape' 'pineorange']\n"
          ]
        }
      ]
    },
    {
      "cell_type": "code",
      "source": [
        "#Q.59 Write a function that concatenates strings in a NumPy array element-wise.arr1 = np.array(['Hello','World']) arr2 = np.array(['Open','AI'])"
      ],
      "metadata": {
        "id": "peqsgTuDmIwl"
      },
      "execution_count": null,
      "outputs": []
    },
    {
      "cell_type": "code",
      "source": [
        "import numpy as np\n",
        "\n",
        "def concatenate_strings(arr1, arr2):\n",
        "    concatenated_arr = np.char.add(arr1, arr2)\n",
        "    return concatenated_arr\n",
        "\n",
        "arr1 = np.array(['Hello', 'World'])\n",
        "arr2 = np.array(['Open', 'AI'])\n",
        "\n",
        "result = concatenate_strings(arr1, arr2)\n",
        "print(\"Concatenated array:\", result)"
      ],
      "metadata": {
        "colab": {
          "base_uri": "https://localhost:8080/"
        },
        "id": "Ctm58Xx-pIjh",
        "outputId": "dab27216-f990-4ea6-945a-709a18b74904"
      },
      "execution_count": null,
      "outputs": [
        {
          "output_type": "stream",
          "name": "stdout",
          "text": [
            "Concatenated array: ['HelloOpen' 'WorldAI']\n"
          ]
        }
      ]
    },
    {
      "cell_type": "code",
      "source": [
        "#Q.60 Write a function that finds the length of the longest string in a NymPy array.arr = np.array(['apple','banana','grape','pineapple'])"
      ],
      "metadata": {
        "id": "FTwHPD_upPMX"
      },
      "execution_count": null,
      "outputs": []
    },
    {
      "cell_type": "code",
      "source": [
        "import numpy as np\n",
        "\n",
        "def longest_string_length(arr):\n",
        "    lengths = np.vectorize(len)(arr)\n",
        "    return np.max(lengths)\n",
        "\n",
        "arr = np.array(['apple', 'banana', 'grape', 'pineapple'])\n",
        "print(longest_string_length(arr))"
      ],
      "metadata": {
        "colab": {
          "base_uri": "https://localhost:8080/"
        },
        "id": "ID3KmzQrqR08",
        "outputId": "42dcfa5a-5ed9-4268-a950-0270dcd9972f"
      },
      "execution_count": null,
      "outputs": [
        {
          "output_type": "stream",
          "name": "stdout",
          "text": [
            "9\n"
          ]
        }
      ]
    },
    {
      "cell_type": "code",
      "source": [
        "#Q.61 Create a dataset of 100 random integers between 1 and 1000.Compute the mean,median,variance,and standard deviation of the dataset using NumPy's functions."
      ],
      "metadata": {
        "id": "rLXh0pSCqkVE"
      },
      "execution_count": null,
      "outputs": []
    },
    {
      "cell_type": "code",
      "source": [
        "import numpy as np\n",
        "\n",
        "dataset = np.random.randint(1, 1001, size=100)\n",
        "\n",
        "mean = np.mean(dataset)\n",
        "median = np.median(dataset)\n",
        "variance = np.var(dataset)\n",
        "std_deviation = np.std(dataset)\n",
        "\n",
        "print(\"Dataset:\", dataset)\n",
        "print(\"Mean:\", mean)\n",
        "print(\"Median:\", median)\n",
        "print(\"Variance:\", variance)\n",
        "print(\"Standard Deviation:\", std_deviation)"
      ],
      "metadata": {
        "colab": {
          "base_uri": "https://localhost:8080/"
        },
        "id": "aB50ZjkcsVk6",
        "outputId": "9e61f176-e98a-4bb6-eb24-9d7e58b138ee"
      },
      "execution_count": null,
      "outputs": [
        {
          "output_type": "stream",
          "name": "stdout",
          "text": [
            "Dataset: [235 731  58 613 911 419 270 991 707 125 854 270 161 558 104 359 144 553\n",
            " 951 491 365 930 593 456 253   1 952 484 203  87 471 732 483 277 338  59\n",
            " 601 930 281 926 319 534 171 403 721 219 251 990 130 533 414 601 286 725\n",
            " 671  54 704 418 346 240 810 568 465 570  11 399 258 181   1   2 704 655\n",
            " 392 933 789 868 553 822 287   2 994 654 313 167 570 505 695 571 954 949\n",
            " 601  83 228 785 528 808 912 409 340 248]\n",
            "Mean: 482.41\n",
            "Median: 477.0\n",
            "Variance: 81667.3419\n",
            "Standard Deviation: 285.7749847344935\n"
          ]
        }
      ]
    },
    {
      "cell_type": "code",
      "source": [
        "#Q.62 Genarate an array of 50 random numbers between 1 and 100.Find the 25th and 75th percentiles of the dataset."
      ],
      "metadata": {
        "id": "Gs4rTUcOslmf"
      },
      "execution_count": null,
      "outputs": []
    },
    {
      "cell_type": "code",
      "source": [
        "import numpy as np\n",
        "\n",
        "dataset = np.random.randint(1, 101, size=50)\n",
        "\n",
        "percentile_25 = np.percentile(dataset, 25)\n",
        "percentile_75 = np.percentile(dataset, 75)\n",
        "\n",
        "print(\"Dataset:\", dataset)\n",
        "print(\"25th Percentile:\", percentile_25)\n",
        "print(\"75th Percentile:\", percentile_75)"
      ],
      "metadata": {
        "colab": {
          "base_uri": "https://localhost:8080/"
        },
        "id": "T4RoDiH1uBGn",
        "outputId": "30c10d7f-4e22-4231-d6be-b8008942fbfd"
      },
      "execution_count": null,
      "outputs": [
        {
          "output_type": "stream",
          "name": "stdout",
          "text": [
            "Dataset: [56 72 40 25 91 37 22 27 99 97 90 26  8 64 47 37 99 99 59 63 57 68 38 48\n",
            " 52 53 72 53 77 19 17 44 64 63 17  7 34 16 15 46  4 97 47 96 74 10 62 45\n",
            " 52 95]\n",
            "25th Percentile: 28.75\n",
            "75th Percentile: 71.0\n"
          ]
        }
      ]
    },
    {
      "cell_type": "code",
      "source": [
        "#Q.63 Create two arrays representing two sets of variables.Compute the correlation coefficient between these arrays using NumPy's'corrcoef'function."
      ],
      "metadata": {
        "id": "Fv4nHlbLuNA1"
      },
      "execution_count": null,
      "outputs": []
    },
    {
      "cell_type": "code",
      "source": [
        "import numpy as np\n",
        "\n",
        "array1 = np.random.randint(1, 101, size=10)\n",
        "array2 = np.random.randint(1, 101, size=10)\n",
        "\n",
        "correlation_matrix = np.corrcoef(array1, array2)\n",
        "\n",
        "print(\"Array 1:\", array1)\n",
        "print(\"Array 2:\", array2)\n",
        "print(\"Correlation Coefficient Matrix:\\n\", correlation_matrix)\n",
        "print(\"Correlation Coefficient between array1 and array2:\", correlation_matrix[0, 1])"
      ],
      "metadata": {
        "colab": {
          "base_uri": "https://localhost:8080/"
        },
        "id": "W0qnykiHvl9j",
        "outputId": "492efd45-7e51-47eb-d92b-085ebc996d9e"
      },
      "execution_count": null,
      "outputs": [
        {
          "output_type": "stream",
          "name": "stdout",
          "text": [
            "Array 1: [ 7 91 85 29 37 39 60 21 70 18]\n",
            "Array 2: [ 5 31 34 61 11  2 50 46 88 46]\n",
            "Correlation Coefficient Matrix:\n",
            " [[1.         0.26428484]\n",
            " [0.26428484 1.        ]]\n",
            "Correlation Coefficient between array1 and array2: 0.26428483909952677\n"
          ]
        }
      ]
    },
    {
      "cell_type": "code",
      "source": [
        "#Q.64 Create two matrices and perform matrix multiplication using NumPy's'dot'function."
      ],
      "metadata": {
        "id": "774yLwSvvshR"
      },
      "execution_count": null,
      "outputs": []
    },
    {
      "cell_type": "code",
      "source": [
        "import numpy as np\n",
        "\n",
        "matrix1 = np.array([[1, 2, 3],\n",
        "                    [4, 5, 6]])\n",
        "\n",
        "matrix2 = np.array([[7, 8],\n",
        "                    [9, 10],\n",
        "                    [11, 12]])\n",
        "\n",
        "result = np.dot(matrix1, matrix2)\n",
        "\n",
        "print(\"Matrix 1:\\n\", matrix1)\n",
        "print(\"Matrix 2:\\n\", matrix2)\n",
        "print(\"Result of matrix multiplication:\\n\", result)"
      ],
      "metadata": {
        "colab": {
          "base_uri": "https://localhost:8080/"
        },
        "id": "bkmNKdXbyzUE",
        "outputId": "7b72289f-e94d-4515-934e-6e1f846233bc"
      },
      "execution_count": null,
      "outputs": [
        {
          "output_type": "stream",
          "name": "stdout",
          "text": [
            "Matrix 1:\n",
            " [[1 2 3]\n",
            " [4 5 6]]\n",
            "Matrix 2:\n",
            " [[ 7  8]\n",
            " [ 9 10]\n",
            " [11 12]]\n",
            "Result of matrix multiplication:\n",
            " [[ 58  64]\n",
            " [139 154]]\n"
          ]
        }
      ]
    },
    {
      "cell_type": "code",
      "source": [
        "#Q.65 Create an array of 50 integers between 10 and 1000.Calculate the 10th ,50th(median),and 90th percentiles along with the first and third quartiles."
      ],
      "metadata": {
        "id": "B6htedqHy4vK"
      },
      "execution_count": null,
      "outputs": []
    },
    {
      "cell_type": "code",
      "source": [
        "import numpy as np\n",
        "\n",
        "data = np.random.randint(10, 1001, size=50)\n",
        "\n",
        "sorted_data = np.sort(data)\n",
        "\n",
        "percentile_10 = np.percentile(sorted_data, 10)\n",
        "median_50 = np.median(sorted_data)\n",
        "percentile_90 = np.percentile(sorted_data, 90)\n",
        "first_quartile = np.percentile(sorted_data, 25)\n",
        "third_quartile = np.percentile(sorted_data, 75)\n",
        "\n",
        "print(f\"Data: {sorted_data}\")\n",
        "print(f\"10th Percentile: {percentile_10}\")\n",
        "print(f\"50th Percentile (Median): {median_50}\")\n",
        "print(f\"90th Percentile: {percentile_90}\")\n",
        "print(f\"1st Quartile (Q1): {first_quartile}\")\n",
        "print(f\"3rd Quartile (Q3): {third_quartile}\")"
      ],
      "metadata": {
        "colab": {
          "base_uri": "https://localhost:8080/"
        },
        "id": "3ULUkuoVmNzu",
        "outputId": "d2a637f1-0fc0-4923-9374-f888e82adb12"
      },
      "execution_count": null,
      "outputs": [
        {
          "output_type": "stream",
          "name": "stdout",
          "text": [
            "Data: [ 10  62 100 104 109 132 159 169 224 238 249 277 294 296 330 348 350 361\n",
            " 372 379 417 494 500 506 509 537 544 553 584 598 607 611 619 632 637 656\n",
            " 681 683 698 744 747 761 785 813 817 861 861 913 928 987]\n",
            "10th Percentile: 129.70000000000002\n",
            "50th Percentile (Median): 523.0\n",
            "90th Percentile: 821.4000000000001\n",
            "1st Quartile (Q1): 294.5\n",
            "3rd Quartile (Q3): 682.5\n"
          ]
        }
      ]
    },
    {
      "cell_type": "code",
      "source": [
        "#Q.66 Create a NumPy array of integers and find the index of a specific element."
      ],
      "metadata": {
        "id": "t1YN7Dz6mOkm"
      },
      "execution_count": null,
      "outputs": []
    },
    {
      "cell_type": "code",
      "source": [
        "import numpy as np\n",
        "\n",
        "array = np.array([10, 20, 30, 40, 50, 60, 70, 80, 90, 100])\n",
        "\n",
        "element_to_find = 50\n",
        "\n",
        "index = np.where(array == element_to_find)[0]\n",
        "\n",
        "if index.size > 0:\n",
        "    print(f\"The index of the element {element_to_find} is: {index[0]}\")\n",
        "else:\n",
        "    print(f\"The element {element_to_find} is not in the array.\")"
      ],
      "metadata": {
        "colab": {
          "base_uri": "https://localhost:8080/"
        },
        "id": "Qg1xKHSgnwFy",
        "outputId": "bec4e029-9770-4265-e038-9480b5f4b816"
      },
      "execution_count": null,
      "outputs": [
        {
          "output_type": "stream",
          "name": "stdout",
          "text": [
            "The index of the element 50 is: 4\n"
          ]
        }
      ]
    },
    {
      "cell_type": "code",
      "source": [
        "#Q.67 Genarate a random NumPy array and sort it in ascending order."
      ],
      "metadata": {
        "id": "OgmufDkbn8_5"
      },
      "execution_count": null,
      "outputs": []
    },
    {
      "cell_type": "code",
      "source": [
        "import numpy as np\n",
        "\n",
        "array = np.random.randint(0, 100, size=10)\n",
        "print(\"Original Array:\", array)\n",
        "\n",
        "sorted_array = np.sort(array)\n",
        "print(\"Sorted Array:\", sorted_array)"
      ],
      "metadata": {
        "colab": {
          "base_uri": "https://localhost:8080/"
        },
        "id": "xCcTduZiohV_",
        "outputId": "202eb8ed-4286-4122-94c0-321fb46c9ade"
      },
      "execution_count": null,
      "outputs": [
        {
          "output_type": "stream",
          "name": "stdout",
          "text": [
            "Original Array: [65  4 39 61 50 90 20 98 94  0]\n",
            "Sorted Array: [ 0  4 20 39 50 61 65 90 94 98]\n"
          ]
        }
      ]
    },
    {
      "cell_type": "code",
      "source": [
        "#Q.68 Filter elements >20 in the given NumPy array. arr = np.array([12,25,6,42,8,30])"
      ],
      "metadata": {
        "id": "TRZrBhd1omPf"
      },
      "execution_count": null,
      "outputs": []
    },
    {
      "cell_type": "code",
      "source": [
        "import numpy as np\n",
        "\n",
        "arr = np.array([12, 25, 6, 42, 8, 30])\n",
        "\n",
        "filtered_array = arr[arr > 20]\n",
        "\n",
        "print(\"Original Array:\", arr)\n",
        "print(\"Filtered Array (elements > 20):\", filtered_array)"
      ],
      "metadata": {
        "colab": {
          "base_uri": "https://localhost:8080/"
        },
        "id": "CVUJaVSxqbyE",
        "outputId": "faf3008e-b470-478b-9566-d2c7ce5e212b"
      },
      "execution_count": null,
      "outputs": [
        {
          "output_type": "stream",
          "name": "stdout",
          "text": [
            "Original Array: [12 25  6 42  8 30]\n",
            "Filtered Array (elements > 20): [25 42 30]\n"
          ]
        }
      ]
    },
    {
      "cell_type": "code",
      "source": [
        "#Q.69 Filter elements which are divisible by 3 from a given NumPy array.arr = np.array([10,20,30,40,50])"
      ],
      "metadata": {
        "id": "HUfk-5mFqfIz"
      },
      "execution_count": null,
      "outputs": []
    },
    {
      "cell_type": "code",
      "source": [
        "import numpy as np\n",
        "\n",
        "arr = np.array([10, 20, 30, 40, 50])\n",
        "\n",
        "filtered_array = arr[arr % 3 == 0]\n",
        "\n",
        "print(\"Original Array:\", arr)\n",
        "print(\"Filtered Array (elements divisible by 3):\", filtered_array)"
      ],
      "metadata": {
        "colab": {
          "base_uri": "https://localhost:8080/"
        },
        "id": "Fq1t90Srq8hi",
        "outputId": "31fcccee-ebd5-41b3-98ee-6ae24263cfb4"
      },
      "execution_count": null,
      "outputs": [
        {
          "output_type": "stream",
          "name": "stdout",
          "text": [
            "Original Array: [10 20 30 40 50]\n",
            "Filtered Array (elements divisible by 3): [30]\n"
          ]
        }
      ]
    },
    {
      "cell_type": "code",
      "source": [
        "#Q.70 Filter elements which are ->20 and <-40 from a given NumPy array.arr = np.array([10,20,30,40,50])"
      ],
      "metadata": {
        "id": "eudToK-DrAae"
      },
      "execution_count": null,
      "outputs": []
    },
    {
      "cell_type": "code",
      "source": [
        "import numpy as np\n",
        "\n",
        "arr = np.array([10, 20, 30, 40, 50])\n",
        "\n",
        "filtered_array = arr[(arr > 20) | (arr < -40)]\n",
        "\n",
        "print(\"Original Array:\", arr)\n",
        "print(\"Filtered Array (elements > 20 or < -40):\", filtered_array)"
      ],
      "metadata": {
        "colab": {
          "base_uri": "https://localhost:8080/"
        },
        "id": "WehGF03Ur70x",
        "outputId": "3f8f9444-04c7-425d-e45b-33dd88696da1"
      },
      "execution_count": null,
      "outputs": [
        {
          "output_type": "stream",
          "name": "stdout",
          "text": [
            "Original Array: [10 20 30 40 50]\n",
            "Filtered Array (elements > 20 or < -40): [30 40 50]\n"
          ]
        }
      ]
    },
    {
      "cell_type": "code",
      "source": [
        "#Q.71 For the given NumPy array,check its byte order using the'dtype'attribute byteorder.arr = np.array([1,2,3])"
      ],
      "metadata": {
        "id": "fPlKW8ZIr-tZ"
      },
      "execution_count": null,
      "outputs": []
    },
    {
      "cell_type": "code",
      "source": [
        "import numpy as np\n",
        "\n",
        "arr = np.array([1, 2, 3])\n",
        "\n",
        "byte_order = arr.dtype.byteorder\n",
        "\n",
        "if byte_order == '=':\n",
        "    print(\"The byte order is native (little-endian or big-endian based on the system).\")\n",
        "elif byte_order == '<':\n",
        "    print(\"The byte order is little-endian.\")\n",
        "elif byte_order == '>':\n",
        "    print(\"The byte order is big-endian.\")\n",
        "else:\n",
        "    print(\"The byte order is not applicable (e.g., for complex types).\")"
      ],
      "metadata": {
        "colab": {
          "base_uri": "https://localhost:8080/"
        },
        "id": "DT9GQz8Ksfb4",
        "outputId": "0b17991e-49a7-4a4d-899a-b0afd989403d"
      },
      "execution_count": null,
      "outputs": [
        {
          "output_type": "stream",
          "name": "stdout",
          "text": [
            "The byte order is native (little-endian or big-endian based on the system).\n"
          ]
        }
      ]
    },
    {
      "cell_type": "code",
      "source": [
        "#Q.72 For the given NumPy array,perform byte swapping in place using'byteawap()'.arr = np.array([1,2,3],dtype = np.int32)"
      ],
      "metadata": {
        "id": "lPdggMKHsjOg"
      },
      "execution_count": null,
      "outputs": []
    },
    {
      "cell_type": "code",
      "source": [
        "import numpy as np\n",
        "\n",
        "arr = np.array([1, 2, 3], dtype=np.int32)\n",
        "\n",
        "print(\"Original Array:\", arr)\n",
        "\n",
        "arr.byteswap(inplace=True)\n",
        "\n",
        "print(\"Byte-swapped Array:\", arr)"
      ],
      "metadata": {
        "colab": {
          "base_uri": "https://localhost:8080/"
        },
        "id": "ADDLDdUAtLnv",
        "outputId": "4823eada-74fd-4cad-eadc-cd0f8a376b9d"
      },
      "execution_count": null,
      "outputs": [
        {
          "output_type": "stream",
          "name": "stdout",
          "text": [
            "Original Array: [1 2 3]\n",
            "Byte-swapped Array: [16777216 33554432 50331648]\n"
          ]
        }
      ]
    },
    {
      "cell_type": "code",
      "source": [
        "#Q.73 For the given NumPy array,swap its byte order without modifying the original array using 'newbyteorder()'. arr = np.array([1,2,3],dtype=np.int32)"
      ],
      "metadata": {
        "id": "9bk6lWbttPbv"
      },
      "execution_count": null,
      "outputs": []
    },
    {
      "cell_type": "code",
      "source": [
        "import numpy as np\n",
        "\n",
        "arr = np.array([1, 2, 3], dtype=np.int32)\n",
        "\n",
        "print(\"Original Array:\", arr)\n",
        "\n",
        "swapped_array = arr.newbyteorder()\n",
        "\n",
        "print(\"Swapped Byte Order Array:\", swapped_array)"
      ],
      "metadata": {
        "colab": {
          "base_uri": "https://localhost:8080/"
        },
        "id": "_R_yawf-xh5P",
        "outputId": "aa84deb9-03ed-4f95-edc2-13dc337a6390"
      },
      "execution_count": null,
      "outputs": [
        {
          "output_type": "stream",
          "name": "stdout",
          "text": [
            "Original Array: [1 2 3]\n",
            "Swapped Byte Order Array: [16777216 33554432 50331648]\n"
          ]
        }
      ]
    },
    {
      "cell_type": "code",
      "source": [
        "#Q.74 For the given NumPy array and swap its byte order conditionally based on system endianness using'newbyteorder'().arr = np.array([1,2,3],dtype=np.int32)"
      ],
      "metadata": {
        "id": "NmdhWjSxxlkX"
      },
      "execution_count": null,
      "outputs": []
    },
    {
      "cell_type": "code",
      "source": [
        "import numpy as np\n",
        "\n",
        "arr = np.array([1, 2, 3], dtype=np.int32)\n",
        "\n",
        "if arr.dtype.byteorder == '=':\n",
        "    swapped_arr = arr.byteswap().newbyteorder()\n",
        "else:\n",
        "    swapped_arr = arr\n",
        "\n",
        "print(\"Original array:\", arr)\n",
        "print(\"Byte-swapped array:\", swapped_arr)"
      ],
      "metadata": {
        "colab": {
          "base_uri": "https://localhost:8080/"
        },
        "id": "ZxkIS7v1ytfs",
        "outputId": "699c7dc7-8a71-42c0-dac2-dc43fee2ef05"
      },
      "execution_count": null,
      "outputs": [
        {
          "output_type": "stream",
          "name": "stdout",
          "text": [
            "Original array: [1 2 3]\n",
            "Byte-swapped array: [1 2 3]\n"
          ]
        }
      ]
    },
    {
      "cell_type": "code",
      "source": [
        "#Q.75 For the given NumPy array,check if byte swapping is necessary for the current system using'dtype' attribute'byteorder'.arr = np.array([1,2,3],dtype=np.int32)"
      ],
      "metadata": {
        "id": "TqpEqoy_zUur"
      },
      "execution_count": null,
      "outputs": []
    },
    {
      "cell_type": "code",
      "source": [
        "import numpy as np\n",
        "\n",
        "arr = np.array([1, 2, 3], dtype=np.int32)\n",
        "\n",
        "if arr.dtype.byteorder == '=':\n",
        "    print(\"No byte swapping is necessary. The array is in the native byte order.\")\n",
        "elif arr.dtype.byteorder == '<':\n",
        "    print(\"The array is in little-endian format.\")\n",
        "elif arr.dtype.byteorder == '>':\n",
        "    print(\"The array is in big-endian format.\")\n",
        "else:\n",
        "    print(\"The array is in a different format.\")"
      ],
      "metadata": {
        "colab": {
          "base_uri": "https://localhost:8080/"
        },
        "id": "ZuVMVsq_z3x6",
        "outputId": "7c17c6a4-51e9-44d1-9e4e-bb8c79337540"
      },
      "execution_count": null,
      "outputs": [
        {
          "output_type": "stream",
          "name": "stdout",
          "text": [
            "No byte swapping is necessary. The array is in the native byte order.\n"
          ]
        }
      ]
    },
    {
      "cell_type": "code",
      "source": [
        "#Q.76 Create a NumPy array 'arr1'with values from 1 to 10.Create a copy of'arr1'named'copy_arr'and modify an e;ement on'copy_arr'.Check if modifying'copy_arr'affects'arr1'."
      ],
      "metadata": {
        "id": "kMSa3bPC0OWS"
      },
      "execution_count": null,
      "outputs": []
    },
    {
      "cell_type": "code",
      "source": [
        "import numpy as np\n",
        "\n",
        "arr1 = np.arange(1, 11)\n",
        "\n",
        "copy_arr = arr1.copy()\n",
        "\n",
        "copy_arr[0] = 99\n",
        "\n",
        "print(\"Original array (arr1):\", arr1)\n",
        "print(\"Modified copy array (copy_arr):\", copy_arr)"
      ],
      "metadata": {
        "colab": {
          "base_uri": "https://localhost:8080/"
        },
        "id": "bHjUx5dd1FsA",
        "outputId": "6e640e42-ff3c-40e7-e285-15486fa4071c"
      },
      "execution_count": null,
      "outputs": [
        {
          "output_type": "stream",
          "name": "stdout",
          "text": [
            "Original array (arr1): [ 1  2  3  4  5  6  7  8  9 10]\n",
            "Modified copy array (copy_arr): [99  2  3  4  5  6  7  8  9 10]\n"
          ]
        }
      ]
    },
    {
      "cell_type": "code",
      "source": [
        "#Q.77 Create a 2D NumPy array'matrix'of shape (3,3)with random integers.Extract a slice'view_slice'from the matrix.Modify an element in'view_slice'and observe if it changes the original'matrix'."
      ],
      "metadata": {
        "id": "DE8_2s081Gd4"
      },
      "execution_count": null,
      "outputs": []
    },
    {
      "cell_type": "code",
      "source": [
        "import numpy as np\n",
        "\n",
        "matrix = np.random.randint(1, 11, size=(3, 3))\n",
        "\n",
        "view_slice = matrix[0:2, 0:2]\n",
        "\n",
        "view_slice[0, 0] = 99\n",
        "\n",
        "print(\"Original matrix after modifying the slice:\")\n",
        "print(matrix)\n",
        "print(\"\\nView slice:\")\n",
        "print(view_slice)"
      ],
      "metadata": {
        "colab": {
          "base_uri": "https://localhost:8080/"
        },
        "id": "k_Rly0bk2Mq1",
        "outputId": "77d6bd03-6bf5-49de-9ac1-03a95597dd23"
      },
      "execution_count": null,
      "outputs": [
        {
          "output_type": "stream",
          "name": "stdout",
          "text": [
            "Original matrix after modifying the slice:\n",
            "[[99  9  2]\n",
            " [ 9  3  6]\n",
            " [10  9  3]]\n",
            "\n",
            "View slice:\n",
            "[[99  9]\n",
            " [ 9  3]]\n"
          ]
        }
      ]
    },
    {
      "cell_type": "code",
      "source": [
        "#Q.78  Create a NumPy array'array_a'of shape(4,3)with sequential integers from 1 to 12. Extract a slice 'view_b'from 'array_a'and brodcast the addition of 5 to view_b.Check if it alters the original'array_a'"
      ],
      "metadata": {
        "id": "tgk5PUrz2pCV"
      },
      "execution_count": null,
      "outputs": []
    },
    {
      "cell_type": "code",
      "source": [
        "import numpy as np\n",
        "\n",
        "array_a = np.arange(1, 13).reshape(4, 3)\n",
        "\n",
        "view_b = array_a[0:2, :]\n",
        "\n",
        "view_b += 5\n",
        "\n",
        "print(\"Original array_a after modifying view_b:\")\n",
        "print(array_a)\n",
        "print(\"\\nView slice (view_b):\")\n",
        "print(view_b)"
      ],
      "metadata": {
        "colab": {
          "base_uri": "https://localhost:8080/"
        },
        "id": "m1Praxlt4lE6",
        "outputId": "9f07eff5-897d-485f-a498-acff8303ef8c"
      },
      "execution_count": null,
      "outputs": [
        {
          "output_type": "stream",
          "name": "stdout",
          "text": [
            "Original array_a after modifying view_b:\n",
            "[[ 6  7  8]\n",
            " [ 9 10 11]\n",
            " [ 7  8  9]\n",
            " [10 11 12]]\n",
            "\n",
            "View slice (view_b):\n",
            "[[ 6  7  8]\n",
            " [ 9 10 11]]\n"
          ]
        }
      ]
    },
    {
      "cell_type": "code",
      "source": [
        "#Q.79 Create a NumPy array 'orig_array'of shape(2,4)with values from 1 to 8.Create a reshaped view 'reshaped_view'of shape(4,2)from orig_array.Modify an element in 'reshaped_view'and check if it reflects changes in the original 'orig_array'."
      ],
      "metadata": {
        "id": "xT_O8wzG4lz5"
      },
      "execution_count": null,
      "outputs": []
    },
    {
      "cell_type": "code",
      "source": [
        "import numpy as np\n",
        "\n",
        "orig_array = np.arange(1, 9).reshape(2, 4)\n",
        "\n",
        "reshaped_view = orig_array.reshape(4, 2)\n",
        "\n",
        "reshaped_view[0, 0] = 99\n",
        "\n",
        "print(\"Original Array:\\n\", orig_array)\n",
        "print(\"Reshaped View:\\n\", reshaped_view)"
      ],
      "metadata": {
        "colab": {
          "base_uri": "https://localhost:8080/"
        },
        "id": "vjer1n9audKe",
        "outputId": "de57734f-4558-4c4c-92af-d6df22b389ae"
      },
      "execution_count": null,
      "outputs": [
        {
          "output_type": "stream",
          "name": "stdout",
          "text": [
            "Original Array:\n",
            " [[99  2  3  4]\n",
            " [ 5  6  7  8]]\n",
            "Reshaped View:\n",
            " [[99  2]\n",
            " [ 3  4]\n",
            " [ 5  6]\n",
            " [ 7  8]]\n"
          ]
        }
      ]
    },
    {
      "cell_type": "code",
      "source": [
        "#Q.80 Create a NumPy array'data'of shape(3,4)with random integers.Extract a copy'data'_copy'of elements grater than5.Modify an element in'data_copy'and verify if it affects the original'data'."
      ],
      "metadata": {
        "id": "ZkGNxJJBvUPZ"
      },
      "execution_count": null,
      "outputs": []
    },
    {
      "cell_type": "code",
      "source": [
        "import numpy as np\n",
        "\n",
        "# Step 1: Create a NumPy array 'data' of shape (3, 4) with random integers from 0 to 10\n",
        "data = np.random.randint(0, 11, size=(3, 4))  # Random integers between 0 and 10\n",
        "\n",
        "# Step 2: Extract a copy 'data_copy' of elements greater than 5\n",
        "data_copy = data[data > 5].copy()  # Using .copy() to create an independent array\n",
        "\n",
        "# Step 3: Modify an element in 'data_copy'\n",
        "if data_copy.size > 0:  # Ensure there is at least one element\n",
        "    data_copy[0] = 99  # Change the first element\n",
        "\n",
        "# Step 4: Verify if it affects the original 'data'\n",
        "print(\"Original Data:\\n\", data)\n",
        "print(\"Data Copy:\\n\", data_copy)"
      ],
      "metadata": {
        "colab": {
          "base_uri": "https://localhost:8080/"
        },
        "id": "sbmRBTvdxLWu",
        "outputId": "2cf0125b-291c-4e93-983c-8669547a17ea"
      },
      "execution_count": null,
      "outputs": [
        {
          "output_type": "stream",
          "name": "stdout",
          "text": [
            "Original Data:\n",
            " [[ 6  2  6  0]\n",
            " [ 8  1 10  9]\n",
            " [ 5  4  8 10]]\n",
            "Data Copy:\n",
            " [99  6  8 10  9  8 10]\n"
          ]
        }
      ]
    },
    {
      "cell_type": "code",
      "source": [
        "#Q.81 Create two matrices A And B of identical shape containing integers and perform addition and subtraction operations between them."
      ],
      "metadata": {
        "id": "g38axTmkxbVl"
      },
      "execution_count": null,
      "outputs": []
    },
    {
      "cell_type": "code",
      "source": [
        "import numpy as np\n",
        "\n",
        "A = np.array([[1, 2, 3], [4, 5, 6], [7, 8, 9]])\n",
        "B = np.array([[9, 8, 7], [6, 5, 4], [3, 2, 1]])\n",
        "\n",
        "C_add = A + B\n",
        "\n",
        "C_sub = A - B\n",
        "\n",
        "print(\"Matrix A:\\n\", A)\n",
        "print(\"Matrix B:\\n\", B)\n",
        "print(\"Addition (A + B):\\n\", C_add)\n",
        "print(\"Subtraction (A - B):\\n\", C_sub)"
      ],
      "metadata": {
        "colab": {
          "base_uri": "https://localhost:8080/"
        },
        "id": "3heg6mGTydeb",
        "outputId": "5fa96fea-2119-4987-c08c-78f07db5c6d6"
      },
      "execution_count": null,
      "outputs": [
        {
          "output_type": "stream",
          "name": "stdout",
          "text": [
            "Matrix A:\n",
            " [[1 2 3]\n",
            " [4 5 6]\n",
            " [7 8 9]]\n",
            "Matrix B:\n",
            " [[9 8 7]\n",
            " [6 5 4]\n",
            " [3 2 1]]\n",
            "Addition (A + B):\n",
            " [[10 10 10]\n",
            " [10 10 10]\n",
            " [10 10 10]]\n",
            "Subtraction (A - B):\n",
            " [[-8 -6 -4]\n",
            " [-2  0  2]\n",
            " [ 4  6  8]]\n"
          ]
        }
      ]
    },
    {
      "cell_type": "code",
      "source": [
        "#Q.82 Genarate two matrices'C'(3*2)and'D'(2*4)and perform matrix multiplication."
      ],
      "metadata": {
        "id": "0y5dZknky3Ma"
      },
      "execution_count": null,
      "outputs": []
    },
    {
      "cell_type": "code",
      "source": [
        "import numpy as np\n",
        "\n",
        "C = np.random.randint(1, 10, size=(3, 2))\n",
        "\n",
        "D = np.random.randint(1, 10, size=(2, 4))\n",
        "\n",
        "result = np.dot(C, D)\n",
        "\n",
        "print(\"Matrix C:\\n\", C)\n",
        "print(\"Matrix D:\\n\", D)\n",
        "print(\"Result of Matrix Multiplication (C @ D):\\n\", result)"
      ],
      "metadata": {
        "colab": {
          "base_uri": "https://localhost:8080/"
        },
        "id": "2loGy9lwzX2B",
        "outputId": "466e8bb1-7c10-4e0d-e1ee-6d84f57450bf"
      },
      "execution_count": null,
      "outputs": [
        {
          "output_type": "stream",
          "name": "stdout",
          "text": [
            "Matrix C:\n",
            " [[6 7]\n",
            " [8 8]\n",
            " [4 4]]\n",
            "Matrix D:\n",
            " [[9 9 5 2]\n",
            " [8 6 8 1]]\n",
            "Result of Matrix Multiplication (C @ D):\n",
            " [[110  96  86  19]\n",
            " [136 120 104  24]\n",
            " [ 68  60  52  12]]\n"
          ]
        }
      ]
    },
    {
      "cell_type": "code",
      "source": [
        "#Q.83 Create a matrix'E'and find its transpose."
      ],
      "metadata": {
        "id": "gl1wSc9zzvWw"
      },
      "execution_count": null,
      "outputs": []
    },
    {
      "cell_type": "code",
      "source": [
        "import numpy as np\n",
        "\n",
        "E = np.array([[1, 2, 3],\n",
        "              [4, 5, 6],\n",
        "              [7, 8, 9]])\n",
        "\n",
        "E_transpose = E.T\n",
        "\n",
        "print(\"Matrix E:\\n\", E)\n",
        "print(\"Transpose of Matrix E:\\n\", E_transpose)"
      ],
      "metadata": {
        "colab": {
          "base_uri": "https://localhost:8080/"
        },
        "id": "4HCFkptyz-y3",
        "outputId": "0db331e1-9b73-4990-e066-0cac763a67c2"
      },
      "execution_count": null,
      "outputs": [
        {
          "output_type": "stream",
          "name": "stdout",
          "text": [
            "Matrix E:\n",
            " [[1 2 3]\n",
            " [4 5 6]\n",
            " [7 8 9]]\n",
            "Transpose of Matrix E:\n",
            " [[1 4 7]\n",
            " [2 5 8]\n",
            " [3 6 9]]\n"
          ]
        }
      ]
    },
    {
      "cell_type": "code",
      "source": [
        "#Q.84 Genarate a square matrix'F'and compute its determinant."
      ],
      "metadata": {
        "id": "V_FZh0GU0GXf"
      },
      "execution_count": null,
      "outputs": []
    },
    {
      "cell_type": "code",
      "source": [
        "import numpy as np\n",
        "\n",
        "F = np.random.randint(1, 10, size=(3, 3))\n",
        "\n",
        "det_F = np.linalg.det(F)\n",
        "\n",
        "F, det_F"
      ],
      "metadata": {
        "colab": {
          "base_uri": "https://localhost:8080/"
        },
        "id": "lHhPpI_q0kJ-",
        "outputId": "58c57253-6360-4138-b44e-95f7934e6234"
      },
      "execution_count": null,
      "outputs": [
        {
          "output_type": "execute_result",
          "data": {
            "text/plain": [
              "(array([[8, 2, 1],\n",
              "        [5, 3, 9],\n",
              "        [5, 9, 6]]),\n",
              " -443.9999999999996)"
            ]
          },
          "metadata": {},
          "execution_count": 15
        }
      ]
    },
    {
      "cell_type": "code",
      "source": [
        "#Q.85 Create a square matrix'G' and find its inverse."
      ],
      "metadata": {
        "id": "YgpXBVOG00Xu"
      },
      "execution_count": null,
      "outputs": []
    },
    {
      "cell_type": "code",
      "source": [
        "G = np.random.randint(1, 10, size=(3, 3))\n",
        "\n",
        "det_G = np.linalg.det(G)\n",
        "\n",
        "if det_G != 0:\n",
        "    G_inv = np.linalg.inv(G)\n",
        "else:\n",
        "    G_inv = \"Matrix is singular, inverse doesn't exist.\"\n",
        "\n",
        "G, G_inv"
      ],
      "metadata": {
        "colab": {
          "base_uri": "https://localhost:8080/"
        },
        "id": "gL74xiLv1biV",
        "outputId": "4d105658-3795-47c4-8b4e-db9fdfa5ad5c"
      },
      "execution_count": null,
      "outputs": [
        {
          "output_type": "execute_result",
          "data": {
            "text/plain": [
              "(array([[9, 2, 1],\n",
              "        [1, 8, 9],\n",
              "        [1, 7, 3]]),\n",
              " array([[ 0.11470588, -0.00294118, -0.02941176],\n",
              "        [-0.01764706, -0.07647059,  0.23529412],\n",
              "        [ 0.00294118,  0.17941176, -0.20588235]]))"
            ]
          },
          "metadata": {},
          "execution_count": 17
        }
      ]
    },
    {
      "cell_type": "code",
      "source": [],
      "metadata": {
        "id": "79Tuu6WV1qVV"
      },
      "execution_count": null,
      "outputs": []
    }
  ]
}